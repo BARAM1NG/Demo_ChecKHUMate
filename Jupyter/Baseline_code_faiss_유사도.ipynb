{
 "cells": [
  {
   "cell_type": "code",
   "execution_count": 1,
   "metadata": {
    "colab": {
     "base_uri": "https://localhost:8080/"
    },
    "id": "sNrL3shku5Lv",
    "outputId": "bd51a51b-48b7-4a30-e96e-12ea7649c985"
   },
   "outputs": [
    {
     "name": "stdout",
     "output_type": "stream",
     "text": [
      "Drive already mounted at /content/drive; to attempt to forcibly remount, call drive.mount(\"/content/drive\", force_remount=True).\n"
     ]
    }
   ],
   "source": [
    "# 구글 드라이브 마운트\n",
    "from google.colab import drive\n",
    "\n",
    "drive.mount('/content/drive')"
   ]
  },
  {
   "cell_type": "markdown",
   "metadata": {
    "id": "TD02YWqGAF6v"
   },
   "source": [
    "# 패키지 import"
   ]
  },
  {
   "cell_type": "code",
   "execution_count": 2,
   "metadata": {
    "colab": {
     "base_uri": "https://localhost:8080/"
    },
    "id": "xS9H0XcSvAoS",
    "outputId": "e0712fd1-533c-4538-de87-98cd1d63efb1"
   },
   "outputs": [
    {
     "name": "stdout",
     "output_type": "stream",
     "text": [
      "Requirement already satisfied: sentence-transformers in /usr/local/lib/python3.10/dist-packages (2.7.0)\n",
      "Requirement already satisfied: transformers<5.0.0,>=4.34.0 in /usr/local/lib/python3.10/dist-packages (from sentence-transformers) (4.41.0)\n",
      "Requirement already satisfied: tqdm in /usr/local/lib/python3.10/dist-packages (from sentence-transformers) (4.66.4)\n",
      "Requirement already satisfied: torch>=1.11.0 in /usr/local/lib/python3.10/dist-packages (from sentence-transformers) (2.3.0+cu121)\n",
      "Requirement already satisfied: numpy in /usr/local/lib/python3.10/dist-packages (from sentence-transformers) (1.25.2)\n",
      "Requirement already satisfied: scikit-learn in /usr/local/lib/python3.10/dist-packages (from sentence-transformers) (1.2.2)\n",
      "Requirement already satisfied: scipy in /usr/local/lib/python3.10/dist-packages (from sentence-transformers) (1.11.4)\n",
      "Requirement already satisfied: huggingface-hub>=0.15.1 in /usr/local/lib/python3.10/dist-packages (from sentence-transformers) (0.23.1)\n",
      "Requirement already satisfied: Pillow in /usr/local/lib/python3.10/dist-packages (from sentence-transformers) (9.4.0)\n",
      "Requirement already satisfied: filelock in /usr/local/lib/python3.10/dist-packages (from huggingface-hub>=0.15.1->sentence-transformers) (3.14.0)\n",
      "Requirement already satisfied: fsspec>=2023.5.0 in /usr/local/lib/python3.10/dist-packages (from huggingface-hub>=0.15.1->sentence-transformers) (2023.6.0)\n",
      "Requirement already satisfied: packaging>=20.9 in /usr/local/lib/python3.10/dist-packages (from huggingface-hub>=0.15.1->sentence-transformers) (24.0)\n",
      "Requirement already satisfied: pyyaml>=5.1 in /usr/local/lib/python3.10/dist-packages (from huggingface-hub>=0.15.1->sentence-transformers) (6.0.1)\n",
      "Requirement already satisfied: requests in /usr/local/lib/python3.10/dist-packages (from huggingface-hub>=0.15.1->sentence-transformers) (2.31.0)\n",
      "Requirement already satisfied: typing-extensions>=3.7.4.3 in /usr/local/lib/python3.10/dist-packages (from huggingface-hub>=0.15.1->sentence-transformers) (4.11.0)\n",
      "Requirement already satisfied: sympy in /usr/local/lib/python3.10/dist-packages (from torch>=1.11.0->sentence-transformers) (1.12)\n",
      "Requirement already satisfied: networkx in /usr/local/lib/python3.10/dist-packages (from torch>=1.11.0->sentence-transformers) (3.3)\n",
      "Requirement already satisfied: jinja2 in /usr/local/lib/python3.10/dist-packages (from torch>=1.11.0->sentence-transformers) (3.1.4)\n",
      "Requirement already satisfied: nvidia-cuda-nvrtc-cu12==12.1.105 in /usr/local/lib/python3.10/dist-packages (from torch>=1.11.0->sentence-transformers) (12.1.105)\n",
      "Requirement already satisfied: nvidia-cuda-runtime-cu12==12.1.105 in /usr/local/lib/python3.10/dist-packages (from torch>=1.11.0->sentence-transformers) (12.1.105)\n",
      "Requirement already satisfied: nvidia-cuda-cupti-cu12==12.1.105 in /usr/local/lib/python3.10/dist-packages (from torch>=1.11.0->sentence-transformers) (12.1.105)\n",
      "Requirement already satisfied: nvidia-cudnn-cu12==8.9.2.26 in /usr/local/lib/python3.10/dist-packages (from torch>=1.11.0->sentence-transformers) (8.9.2.26)\n",
      "Requirement already satisfied: nvidia-cublas-cu12==12.1.3.1 in /usr/local/lib/python3.10/dist-packages (from torch>=1.11.0->sentence-transformers) (12.1.3.1)\n",
      "Requirement already satisfied: nvidia-cufft-cu12==11.0.2.54 in /usr/local/lib/python3.10/dist-packages (from torch>=1.11.0->sentence-transformers) (11.0.2.54)\n",
      "Requirement already satisfied: nvidia-curand-cu12==10.3.2.106 in /usr/local/lib/python3.10/dist-packages (from torch>=1.11.0->sentence-transformers) (10.3.2.106)\n",
      "Requirement already satisfied: nvidia-cusolver-cu12==11.4.5.107 in /usr/local/lib/python3.10/dist-packages (from torch>=1.11.0->sentence-transformers) (11.4.5.107)\n",
      "Requirement already satisfied: nvidia-cusparse-cu12==12.1.0.106 in /usr/local/lib/python3.10/dist-packages (from torch>=1.11.0->sentence-transformers) (12.1.0.106)\n",
      "Requirement already satisfied: nvidia-nccl-cu12==2.20.5 in /usr/local/lib/python3.10/dist-packages (from torch>=1.11.0->sentence-transformers) (2.20.5)\n",
      "Requirement already satisfied: nvidia-nvtx-cu12==12.1.105 in /usr/local/lib/python3.10/dist-packages (from torch>=1.11.0->sentence-transformers) (12.1.105)\n",
      "Requirement already satisfied: triton==2.3.0 in /usr/local/lib/python3.10/dist-packages (from torch>=1.11.0->sentence-transformers) (2.3.0)\n",
      "Requirement already satisfied: nvidia-nvjitlink-cu12 in /usr/local/lib/python3.10/dist-packages (from nvidia-cusolver-cu12==11.4.5.107->torch>=1.11.0->sentence-transformers) (12.5.40)\n",
      "Requirement already satisfied: regex!=2019.12.17 in /usr/local/lib/python3.10/dist-packages (from transformers<5.0.0,>=4.34.0->sentence-transformers) (2023.12.25)\n",
      "Requirement already satisfied: tokenizers<0.20,>=0.19 in /usr/local/lib/python3.10/dist-packages (from transformers<5.0.0,>=4.34.0->sentence-transformers) (0.19.1)\n",
      "Requirement already satisfied: safetensors>=0.4.1 in /usr/local/lib/python3.10/dist-packages (from transformers<5.0.0,>=4.34.0->sentence-transformers) (0.4.3)\n",
      "Requirement already satisfied: joblib>=1.1.1 in /usr/local/lib/python3.10/dist-packages (from scikit-learn->sentence-transformers) (1.4.2)\n",
      "Requirement already satisfied: threadpoolctl>=2.0.0 in /usr/local/lib/python3.10/dist-packages (from scikit-learn->sentence-transformers) (3.5.0)\n",
      "Requirement already satisfied: MarkupSafe>=2.0 in /usr/local/lib/python3.10/dist-packages (from jinja2->torch>=1.11.0->sentence-transformers) (2.1.5)\n",
      "Requirement already satisfied: charset-normalizer<4,>=2 in /usr/local/lib/python3.10/dist-packages (from requests->huggingface-hub>=0.15.1->sentence-transformers) (3.3.2)\n",
      "Requirement already satisfied: idna<4,>=2.5 in /usr/local/lib/python3.10/dist-packages (from requests->huggingface-hub>=0.15.1->sentence-transformers) (3.7)\n",
      "Requirement already satisfied: urllib3<3,>=1.21.1 in /usr/local/lib/python3.10/dist-packages (from requests->huggingface-hub>=0.15.1->sentence-transformers) (2.0.7)\n",
      "Requirement already satisfied: certifi>=2017.4.17 in /usr/local/lib/python3.10/dist-packages (from requests->huggingface-hub>=0.15.1->sentence-transformers) (2024.2.2)\n",
      "Requirement already satisfied: mpmath>=0.19 in /usr/local/lib/python3.10/dist-packages (from sympy->torch>=1.11.0->sentence-transformers) (1.3.0)\n",
      "Requirement already satisfied: faiss-cpu in /usr/local/lib/python3.10/dist-packages (1.8.0)\n",
      "Requirement already satisfied: numpy in /usr/local/lib/python3.10/dist-packages (from faiss-cpu) (1.25.2)\n"
     ]
    }
   ],
   "source": [
    "# 필요한 패키지 임포트\n",
    "!pip install sentence-transformers\n",
    "!pip install faiss-cpu\n",
    "\n",
    "import pandas as pd\n",
    "import numpy as np\n",
    "import matplotlib.pyplot as plt\n",
    "import seaborn as sns\n",
    "import warnings\n",
    "import math\n",
    "from collections import Counter\n",
    "from sklearn.model_selection import train_test_split\n",
    "from sklearn.preprocessing import OneHotEncoder\n",
    "import torch\n",
    "import faiss\n",
    "from sentence_transformers import SentenceTransformer, util\n",
    "warnings.filterwarnings('ignore')"
   ]
  },
  {
   "cell_type": "markdown",
   "metadata": {
    "id": "xLVYcGDPzNt5"
   },
   "source": [
    "# 1-1. Import Data"
   ]
  },
  {
   "cell_type": "code",
   "execution_count": 3,
   "metadata": {
    "id": "_uz7-YJZzVcZ"
   },
   "outputs": [],
   "source": [
    "data = pd.read_csv('/content/drive/MyDrive/ChecKHUMate/merge_domitory_data.csv')"
   ]
  },
  {
   "cell_type": "markdown",
   "metadata": {
    "id": "gJINIynT8A1A"
   },
   "source": [
    "# 1-2. Data preprocessing"
   ]
  },
  {
   "cell_type": "code",
   "execution_count": 4,
   "metadata": {
    "id": "UOeXDsm7d1pm"
   },
   "outputs": [],
   "source": [
    "def prepare_data(data):\n",
    "    \"\"\"\n",
    "    주어진 데이터 프레임에서 필요한 정보를 추출하고 포맷팅하는 함수.\n",
    "\n",
    "    Parameters:\n",
    "        data (pd.DataFrame): 원본 데이터 프레임.\n",
    "\n",
    "    Returns:\n",
    "        user_data (pd.DataFrame): 사용자 데이터 프레임.\n",
    "        wish_data (pd.DataFrame): 사용자의 선호에 관한 데이터 프레임.\n",
    "    \"\"\"\n",
    "    # 사용자 데이터 선택\n",
    "    user_data_columns = [\n",
    "        'user_id', 'domitory', 'age', 'student_id', 'gender', 'major',\n",
    "        'bedtime', 'clean_duration', 'smoke', 'alcohol', 'mbti', 'one_sentence'\n",
    "    ]\n",
    "    user_data = data[user_data_columns]\n",
    "    user_data = user_data.set_index('user_id')\n",
    "\n",
    "    # 사용자 선호 데이터 선택\n",
    "    wish_data_columns = [\n",
    "        'user_id', 'wish_domitory', 'wish_age', 'wish_student_id', 'wish_gender',\n",
    "        'wish_major', 'wish_bedtime', 'wish_clean_duration', 'wish_smoke',\n",
    "        'wish_alcohol', 'wish_mbti'\n",
    "    ]\n",
    "    wish_data = data[wish_data_columns]\n",
    "    wish_data = wish_data.set_index('user_id')\n",
    "\n",
    "    return user_data, wish_data"
   ]
  },
  {
   "cell_type": "code",
   "execution_count": 5,
   "metadata": {
    "id": "z_Ye442Sd7lP"
   },
   "outputs": [],
   "source": [
    "user_data, wish_data = prepare_data(data)"
   ]
  },
  {
   "cell_type": "code",
   "execution_count": 6,
   "metadata": {
    "id": "9l3PmZhfYVW3"
   },
   "outputs": [],
   "source": [
    "import pandas as pd\n",
    "from sklearn.preprocessing import OneHotEncoder\n",
    "\n",
    "def encode_and_concat_to_array(dataframe, column_name):\n",
    "    \"\"\"\n",
    "    원핫 인코딩을 수행하고 원본 데이터프레임에 결과를 추가한 후 전체를 numpy 배열로 반환합니다.\n",
    "\n",
    "    Args:\n",
    "    dataframe (pd.DataFrame): 원본 데이터를 포함한 데이터프레임.\n",
    "    column_name (str): 원핫 인코딩을 적용할 열의 이름.\n",
    "\n",
    "    Returns:\n",
    "    numpy.ndarray: 원핫 인코딩된 결과와 원본 데이터가 결합된 numpy 배열.\n",
    "    \"\"\"\n",
    "    # 원핫 인코더 초기화 및 피팅\n",
    "    encoder = OneHotEncoder(sparse_output=False)  # 바로 numpy array 반환 설정\n",
    "    encoded_data = encoder.fit_transform(dataframe[[column_name]])\n",
    "\n",
    "    # 원핫 인코딩 결과를 DataFrame으로 변환\n",
    "    encoded_df = pd.DataFrame(encoded_data, columns=encoder.get_feature_names_out([column_name]))\n",
    "\n",
    "    # 데이터프레임의 인덱스 리셋\n",
    "    dataframe = dataframe.reset_index(drop=True)\n",
    "    encoded_df = encoded_df.reset_index(drop=True)\n",
    "\n",
    "    # 원본 데이터와 원핫 인코딩된 데이터를 결합\n",
    "    new_dataframe = pd.concat([dataframe, encoded_df], axis=1)\n",
    "\n",
    "    # 인코딩된 열 제거\n",
    "    new_dataframe = new_dataframe.drop(column_name, axis=1)\n",
    "\n",
    "    return new_dataframe"
   ]
  },
  {
   "cell_type": "code",
   "execution_count": 7,
   "metadata": {
    "id": "a1f-l_NlhB6H"
   },
   "outputs": [],
   "source": [
    "user_df = encode_and_concat_to_array(user_data, 'mbti')\n",
    "wish_df = encode_and_concat_to_array(wish_data, 'wish_mbti')"
   ]
  },
  {
   "cell_type": "code",
   "execution_count": 8,
   "metadata": {
    "id": "3EP02FamuSWw"
   },
   "outputs": [],
   "source": [
    "# Faiss 유사도 계산을 위한 데이터 전처리\n",
    "\n",
    "# 1) user_data에서 one_sentence 데이터 drop\n",
    "# 0행: 'user_id', 1행:'domitory', 2행: 'age', 3행: 'student_id', 4행: 'gender', 5행: 'major', 6행: 'bedtime', 7행: 'clean_duration', 8행:'smoke',\n",
    "# 9행: 'alcohol', 10행: 'one_sentence'\n",
    "\n",
    "# one_sentence drop\n",
    "user_df_a = user_df.drop(columns = 'one_sentence')"
   ]
  },
  {
   "cell_type": "markdown",
   "metadata": {
    "id": "8Ky9mKggzcuB"
   },
   "source": [
    "# 2. Data Filtering & Modeling"
   ]
  },
  {
   "cell_type": "markdown",
   "metadata": {
    "id": "7tMbTLTk2ZUK"
   },
   "source": [
    "## 2-1 Faiss 유사도"
   ]
  },
  {
   "cell_type": "code",
   "execution_count": 9,
   "metadata": {
    "id": "udibJIk4s93_"
   },
   "outputs": [],
   "source": [
    "import numpy as np\n",
    "import faiss\n",
    "\n",
    "# 각 사용자의 wish_data를 기반으로 user_data에서 자기 자신을 제외한 상위 k개의 가장 유사한 사용자들을 찾아낸 결과를 배열로 반환합니다.\n",
    "class Recommender_without_sentence:\n",
    "    def __init__(self, user_data, wish_data):\n",
    "        self.user_data = user_data\n",
    "        self.wish_data = wish_data\n",
    "        self.index = None\n",
    "        self.d = user_data.shape[1]\n",
    "\n",
    "    def build_index(self):\n",
    "        \"\"\"FAISS 인덱스를 생성하고 유저 데이터를 추가합니다.\"\"\"\n",
    "        self.index = faiss.IndexFlatL2(self.d)\n",
    "        self.index.add(self.user_data.astype('float32'))\n",
    "\n",
    "    def find_roommates(self, k=10):\n",
    "        \"\"\"각 유저의 wish_data에 대해 가장 유사한 유저를 찾되, 자기 자신은 제외하고, -1 인덱스가 발생한 경우도 기록합니다.\"\"\"\n",
    "        if self.index is None:\n",
    "            self.build_index()\n",
    "\n",
    "        all_results = []  # 결과를 저장할 배열\n",
    "        invalid_indices_info = []  # -1 인덱스가 발생한 정보를 저장할 배열\n",
    "\n",
    "        for i in range(self.wish_data.shape[0]):\n",
    "            # 자기 자신을 포함하여 k+1개의 결과를 검색\n",
    "            distances, indices = self.index.search(self.wish_data[i:i+1].astype('float32'), k+1)\n",
    "\n",
    "            # 자기 자신의 인덱스와 -1을 제외\n",
    "            valid_indices = indices[0][(indices[0] != i) & (indices[0] != -1)]\n",
    "\n",
    "            # -1이 발생한 경우 기록\n",
    "            if np.any(indices[0] == -1):\n",
    "                invalid_indices_info.append((i, list(indices[0])))\n",
    "\n",
    "            # k개의 결과만 반환\n",
    "            all_results.append(valid_indices[:k])\n",
    "\n",
    "        # 결과와 -1 정보 모두 반환\n",
    "        return np.array(all_results)"
   ]
  },
  {
   "cell_type": "code",
   "execution_count": 10,
   "metadata": {
    "id": "2wuEp5Soy_-E"
   },
   "outputs": [],
   "source": [
    "recommender = Recommender_without_sentence(user_df_a, wish_df)\n",
    "roommate_recommendations = recommender.find_roommates()"
   ]
  },
  {
   "cell_type": "code",
   "execution_count": 11,
   "metadata": {
    "colab": {
     "base_uri": "https://localhost:8080/"
    },
    "id": "umB7fzVSwW-X",
    "outputId": "4ad6c4aa-bed3-4087-a1a0-5fe8970492ae"
   },
   "outputs": [
    {
     "data": {
      "text/plain": [
       "array([[ 50,  55,  56, ...,  51,  22,  23],\n",
       "       [ 51,   0,   3, ...,  22,  23,  26],\n",
       "       [ 52,  32,  62, ...,  29,   3,   9],\n",
       "       ...,\n",
       "       [ 47,  32,  55, ...,  53,  62,   9],\n",
       "       [ 48,  56,  62, ...,  38,  60,  64],\n",
       "       [ 49,  10, 112, ...,  15,  14,  37]])"
      ]
     },
     "execution_count": 11,
     "metadata": {},
     "output_type": "execute_result"
    }
   ],
   "source": [
    "roommate_recommendations"
   ]
  },
  {
   "cell_type": "code",
   "execution_count": 12,
   "metadata": {
    "id": "WjNdD5RfWNsK"
   },
   "outputs": [],
   "source": [
    "import numpy as np\n",
    "import faiss\n",
    "from sentence_transformers import SentenceTransformer\n",
    "import pandas as pd\n",
    "\n",
    "class IntroductionRecommender:\n",
    "    def __init__(self, user_data):\n",
    "        self.user_data = user_data\n",
    "        self.embedder = SentenceTransformer('jhgan/ko-sroberta-multitask')\n",
    "        self.index = None\n",
    "        self.id_index = np.array(self.user_data.index)\n",
    "        self.embeddings = None\n",
    "        self.user_data['one_sentence'] = user_data['one_sentence'].fillna('No introduction provided').astype(str)\n",
    "\n",
    "    def create_faiss_index(self):\n",
    "        self.embeddings = self.embedder.encode(self.user_data['one_sentence'].tolist(), convert_to_tensor=False)\n",
    "\n",
    "        normalized_embeddings = self.embeddings.copy()\n",
    "        faiss.normalize_L2(normalized_embeddings)\n",
    "\n",
    "        d = self.embeddings.shape[1]\n",
    "        index_flat = faiss.IndexFlatIP(d)\n",
    "        self.index = faiss.IndexIDMap(index_flat)\n",
    "        self.index.add_with_ids(normalized_embeddings, self.id_index)\n",
    "\n",
    "    def find_similar_introductions(self, result_indices, k=10):\n",
    "        if self.index is None:\n",
    "            raise ValueError(\"FAISS index is not built. Please run create_faiss_index method first.\")\n",
    "\n",
    "        all_group_similarities = []\n",
    "\n",
    "        for base_index, indices in enumerate(result_indices):\n",
    "            if base_index >= len(self.user_data):\n",
    "                continue\n",
    "\n",
    "            base_vector = self.embeddings[base_index].reshape(1, -1)\n",
    "            compare_vectors = self.embeddings[indices]\n",
    "\n",
    "            D, I = self.index.search(base_vector, len(self.user_data))\n",
    "            distances = [(I[0][i], D[0][i]) for i in range(len(I[0])) if I[0][i] in indices]\n",
    "\n",
    "            distances = sorted(distances, key=lambda x: x[1], reverse=True)\n",
    "            group_similarities = [idx for idx, _ in distances[:k]]\n",
    "            all_group_similarities.append(group_similarities)\n",
    "\n",
    "        return all_group_similarities"
   ]
  },
  {
   "cell_type": "code",
   "execution_count": 13,
   "metadata": {
    "id": "f5kH4K0vMFLo"
   },
   "outputs": [],
   "source": [
    "recommender = IntroductionRecommender(user_df)\n",
    "recommender.create_faiss_index()\n",
    "similarities = recommender.find_similar_introductions(roommate_recommendations)"
   ]
  },
  {
   "cell_type": "code",
   "execution_count": 14,
   "metadata": {
    "colab": {
     "base_uri": "https://localhost:8080/"
    },
    "id": "s448XkrvwJ8b",
    "outputId": "4f8d3719-d850-4519-ce58-7ba46050084a"
   },
   "outputs": [
    {
     "data": {
      "text/plain": [
       "array([50, 55, 56, 48, 62,  9, 47, 51, 22, 23])"
      ]
     },
     "execution_count": 14,
     "metadata": {},
     "output_type": "execute_result"
    }
   ],
   "source": [
    "roommate_recommendations[0]"
   ]
  },
  {
   "cell_type": "code",
   "execution_count": 15,
   "metadata": {
    "colab": {
     "base_uri": "https://localhost:8080/"
    },
    "id": "OEDL3t9h0oKU",
    "outputId": "10603410-832e-4d4d-aa3b-d7ab89db099e"
   },
   "outputs": [
    {
     "name": "stdout",
     "output_type": "stream",
     "text": [
      "[56, 9, 51, 22, 55, 23, 62, 48, 47, 50]\n"
     ]
    }
   ],
   "source": [
    "print(similarities[0])"
   ]
  },
  {
   "cell_type": "code",
   "execution_count": 16,
   "metadata": {
    "colab": {
     "base_uri": "https://localhost:8080/"
    },
    "id": "QZoC2UeB0d2r",
    "outputId": "7acf9aab-5403-4695-b8db-d9d0e10d8459"
   },
   "outputs": [
    {
     "data": {
      "text/plain": [
       "domitory                          0\n",
       "age                               0\n",
       "student_id                        0\n",
       "gender                            1\n",
       "major                             2\n",
       "bedtime                           2\n",
       "clean_duration                    0\n",
       "smoke                             0\n",
       "alcohol                           0\n",
       "mbti                           ENTJ\n",
       "one_sentence      매일 아침에 운동을 즐겨합니다.\n",
       "Name: 1, dtype: object"
      ]
     },
     "execution_count": 16,
     "metadata": {},
     "output_type": "execute_result"
    }
   ],
   "source": [
    "user_data.iloc[0]"
   ]
  },
  {
   "cell_type": "code",
   "execution_count": 17,
   "metadata": {
    "colab": {
     "base_uri": "https://localhost:8080/"
    },
    "id": "xlEuCkRO0ZtA",
    "outputId": "fcc45807-fc73-4d84-ee34-2e59196aa9b8"
   },
   "outputs": [
    {
     "data": {
      "text/plain": [
       "domitory                              1\n",
       "age                                   2\n",
       "student_id                            1\n",
       "gender                                0\n",
       "major                                 4\n",
       "bedtime                               2\n",
       "clean_duration                        0\n",
       "smoke                                 0\n",
       "alcohol                               0\n",
       "mbti                               ISTP\n",
       "one_sentence      대학교 가는 길마다 조깅을 좋아합니다.\n",
       "Name: 57, dtype: object"
      ]
     },
     "execution_count": 17,
     "metadata": {},
     "output_type": "execute_result"
    }
   ],
   "source": [
    "user_data.iloc[56]"
   ]
  },
  {
   "cell_type": "code",
   "execution_count": 18,
   "metadata": {
    "colab": {
     "base_uri": "https://localhost:8080/"
    },
    "id": "vrwvqtaa6oOP",
    "outputId": "e7722754-e5d4-4ae1-b2af-ccfa9d9cce16"
   },
   "outputs": [
    {
     "data": {
      "text/plain": [
       "domitory                                          0\n",
       "age                                               0\n",
       "student_id                                        0\n",
       "gender                                            1\n",
       "major                                             3\n",
       "bedtime                                           2\n",
       "clean_duration                                    0\n",
       "smoke                                             0\n",
       "alcohol                                           0\n",
       "mbti                                           ENFJ\n",
       "one_sentence      헬스를 좋아하는데, 같이 운동할 수 있는 룸메이트 구합니다!\n",
       "Name: 10, dtype: object"
      ]
     },
     "execution_count": 18,
     "metadata": {},
     "output_type": "execute_result"
    }
   ],
   "source": [
    "user_data.iloc[9]"
   ]
  },
  {
   "cell_type": "code",
   "execution_count": 18,
   "metadata": {
    "id": "XanbmPgj6pqA"
   },
   "outputs": [],
   "source": []
  }
 ],
 "metadata": {
  "accelerator": "GPU",
  "colab": {
   "gpuType": "T4",
   "provenance": []
  },
  "kernelspec": {
   "display_name": "Python 3 (ipykernel)",
   "language": "python",
   "name": "python3"
  },
  "language_info": {
   "codemirror_mode": {
    "name": "ipython",
    "version": 3
   },
   "file_extension": ".py",
   "mimetype": "text/x-python",
   "name": "python",
   "nbconvert_exporter": "python",
   "pygments_lexer": "ipython3",
   "version": "3.11.5"
  }
 },
 "nbformat": 4,
 "nbformat_minor": 4
}
