{
  "nbformat": 4,
  "nbformat_minor": 0,
  "metadata": {
    "colab": {
      "provenance": []
    },
    "kernelspec": {
      "name": "python3",
      "display_name": "Python 3"
    },
    "language_info": {
      "name": "python"
    }
  },
  "cells": [
    {
      "cell_type": "code",
      "execution_count": 1,
      "metadata": {
        "colab": {
          "base_uri": "https://localhost:8080/"
        },
        "id": "sNrL3shku5Lv",
        "outputId": "ee6cb4e9-0bd5-4bf6-a8aa-5e6a3213a134"
      },
      "outputs": [
        {
          "output_type": "stream",
          "name": "stdout",
          "text": [
            "Drive already mounted at /content/drive; to attempt to forcibly remount, call drive.mount(\"/content/drive\", force_remount=True).\n"
          ]
        }
      ],
      "source": [
        "# 구글 드라이브 마운트\n",
        "from google.colab import drive\n",
        "drive.mount('/content/drive')"
      ]
    },
    {
      "cell_type": "markdown",
      "source": [
        "# 패키지 import"
      ],
      "metadata": {
        "id": "TD02YWqGAF6v"
      }
    },
    {
      "cell_type": "code",
      "source": [
        "# 필요한 패키지 임포트\n",
        "import pandas as pd\n",
        "import numpy as np\n",
        "import matplotlib.pyplot as plt\n",
        "import seaborn as sns\n",
        "import warnings\n",
        "import math\n",
        "from collections import Counter\n",
        "from sklearn.model_selection import train_test_split\n",
        "from sklearn.preprocessing import OneHotEncoder\n",
        "import torch\n",
        "warnings.filterwarnings('ignore')"
      ],
      "metadata": {
        "id": "xS9H0XcSvAoS"
      },
      "execution_count": 2,
      "outputs": []
    },
    {
      "cell_type": "code",
      "source": [
        "!pip install faiss-cpu\n",
        "import faiss"
      ],
      "metadata": {
        "id": "pfkXot3qREab",
        "outputId": "48141fc4-b617-4ab6-c51c-ae473a5fdcb6",
        "colab": {
          "base_uri": "https://localhost:8080/"
        }
      },
      "execution_count": 3,
      "outputs": [
        {
          "output_type": "stream",
          "name": "stdout",
          "text": [
            "Requirement already satisfied: faiss-cpu in /usr/local/lib/python3.10/dist-packages (1.8.0)\n",
            "Requirement already satisfied: numpy in /usr/local/lib/python3.10/dist-packages (from faiss-cpu) (1.25.2)\n"
          ]
        }
      ]
    },
    {
      "cell_type": "markdown",
      "source": [
        "# 1-1. Import Data"
      ],
      "metadata": {
        "id": "xLVYcGDPzNt5"
      }
    },
    {
      "cell_type": "code",
      "source": [
        "data = pd.read_csv('/content/drive/MyDrive/ChecKHUMate/merge_domitory_data.csv')"
      ],
      "metadata": {
        "id": "_uz7-YJZzVcZ"
      },
      "execution_count": 4,
      "outputs": []
    },
    {
      "cell_type": "markdown",
      "source": [
        "# 1-2. Data preprocessing"
      ],
      "metadata": {
        "id": "gJINIynT8A1A"
      }
    },
    {
      "cell_type": "code",
      "source": [
        "data = data.set_index('user_id')"
      ],
      "metadata": {
        "id": "-EBHpQBizvNq"
      },
      "execution_count": 5,
      "outputs": []
    },
    {
      "cell_type": "code",
      "source": [
        "# 데이터가 많이 부족한 alarm, activity, birth, student_id.1(상대방), major.1(상대방), smoke.1(상대방) 열 drop\n",
        "\n",
        "data.drop(columns = ['alarm', 'activity', 'birth', 'student_id.1', 'major.1', 'smoke.1'])"
      ],
      "metadata": {
        "colab": {
          "base_uri": "https://localhost:8080/",
          "height": 455
        },
        "id": "egkNJXMja40n",
        "outputId": "918b83e9-922c-4f56-d016-37cb7695edea"
      },
      "execution_count": 6,
      "outputs": [
        {
          "output_type": "execute_result",
          "data": {
            "text/plain": [
              "         domitory  age  student_id  gender  major  bedtime  clean_duration  \\\n",
              "user_id                                                                      \n",
              "1               0  0.0           0       1      2        2               0   \n",
              "2               0  3.0           3       1      2        2               1   \n",
              "3               0  3.0           3       1      2        2               0   \n",
              "4               0  0.0           0       1      2        2               1   \n",
              "5               0  3.0           3       0      0        2               0   \n",
              "...           ...  ...         ...     ...    ...      ...             ...   \n",
              "129             0  4.0           4       1      3        3               1   \n",
              "130             4  3.0           3       0      1        3               0   \n",
              "131             0  2.0           3       1      2        3               2   \n",
              "132             0  3.0           3       1      2        3               0   \n",
              "133             0  4.0           4       1      2        3               1   \n",
              "\n",
              "         smoke  alcohol  mbti  \n",
              "user_id                        \n",
              "1          0.0        0  ENTJ  \n",
              "2          0.0        1  ISFP  \n",
              "3          1.0        1  ESTJ  \n",
              "4          0.0        0  ISFJ  \n",
              "5          0.0        0  ISFJ  \n",
              "...        ...      ...   ...  \n",
              "129        0.0        0  ISFP  \n",
              "130        0.0        1  ISFJ  \n",
              "131        0.0        0  INFP  \n",
              "132        0.0        1  INTJ  \n",
              "133        0.0        1  ISFP  \n",
              "\n",
              "[133 rows x 10 columns]"
            ],
            "text/html": [
              "\n",
              "  <div id=\"df-0ce5448a-15ad-4e06-825b-6f865b6b8383\" class=\"colab-df-container\">\n",
              "    <div>\n",
              "<style scoped>\n",
              "    .dataframe tbody tr th:only-of-type {\n",
              "        vertical-align: middle;\n",
              "    }\n",
              "\n",
              "    .dataframe tbody tr th {\n",
              "        vertical-align: top;\n",
              "    }\n",
              "\n",
              "    .dataframe thead th {\n",
              "        text-align: right;\n",
              "    }\n",
              "</style>\n",
              "<table border=\"1\" class=\"dataframe\">\n",
              "  <thead>\n",
              "    <tr style=\"text-align: right;\">\n",
              "      <th></th>\n",
              "      <th>domitory</th>\n",
              "      <th>age</th>\n",
              "      <th>student_id</th>\n",
              "      <th>gender</th>\n",
              "      <th>major</th>\n",
              "      <th>bedtime</th>\n",
              "      <th>clean_duration</th>\n",
              "      <th>smoke</th>\n",
              "      <th>alcohol</th>\n",
              "      <th>mbti</th>\n",
              "    </tr>\n",
              "    <tr>\n",
              "      <th>user_id</th>\n",
              "      <th></th>\n",
              "      <th></th>\n",
              "      <th></th>\n",
              "      <th></th>\n",
              "      <th></th>\n",
              "      <th></th>\n",
              "      <th></th>\n",
              "      <th></th>\n",
              "      <th></th>\n",
              "      <th></th>\n",
              "    </tr>\n",
              "  </thead>\n",
              "  <tbody>\n",
              "    <tr>\n",
              "      <th>1</th>\n",
              "      <td>0</td>\n",
              "      <td>0.0</td>\n",
              "      <td>0</td>\n",
              "      <td>1</td>\n",
              "      <td>2</td>\n",
              "      <td>2</td>\n",
              "      <td>0</td>\n",
              "      <td>0.0</td>\n",
              "      <td>0</td>\n",
              "      <td>ENTJ</td>\n",
              "    </tr>\n",
              "    <tr>\n",
              "      <th>2</th>\n",
              "      <td>0</td>\n",
              "      <td>3.0</td>\n",
              "      <td>3</td>\n",
              "      <td>1</td>\n",
              "      <td>2</td>\n",
              "      <td>2</td>\n",
              "      <td>1</td>\n",
              "      <td>0.0</td>\n",
              "      <td>1</td>\n",
              "      <td>ISFP</td>\n",
              "    </tr>\n",
              "    <tr>\n",
              "      <th>3</th>\n",
              "      <td>0</td>\n",
              "      <td>3.0</td>\n",
              "      <td>3</td>\n",
              "      <td>1</td>\n",
              "      <td>2</td>\n",
              "      <td>2</td>\n",
              "      <td>0</td>\n",
              "      <td>1.0</td>\n",
              "      <td>1</td>\n",
              "      <td>ESTJ</td>\n",
              "    </tr>\n",
              "    <tr>\n",
              "      <th>4</th>\n",
              "      <td>0</td>\n",
              "      <td>0.0</td>\n",
              "      <td>0</td>\n",
              "      <td>1</td>\n",
              "      <td>2</td>\n",
              "      <td>2</td>\n",
              "      <td>1</td>\n",
              "      <td>0.0</td>\n",
              "      <td>0</td>\n",
              "      <td>ISFJ</td>\n",
              "    </tr>\n",
              "    <tr>\n",
              "      <th>5</th>\n",
              "      <td>0</td>\n",
              "      <td>3.0</td>\n",
              "      <td>3</td>\n",
              "      <td>0</td>\n",
              "      <td>0</td>\n",
              "      <td>2</td>\n",
              "      <td>0</td>\n",
              "      <td>0.0</td>\n",
              "      <td>0</td>\n",
              "      <td>ISFJ</td>\n",
              "    </tr>\n",
              "    <tr>\n",
              "      <th>...</th>\n",
              "      <td>...</td>\n",
              "      <td>...</td>\n",
              "      <td>...</td>\n",
              "      <td>...</td>\n",
              "      <td>...</td>\n",
              "      <td>...</td>\n",
              "      <td>...</td>\n",
              "      <td>...</td>\n",
              "      <td>...</td>\n",
              "      <td>...</td>\n",
              "    </tr>\n",
              "    <tr>\n",
              "      <th>129</th>\n",
              "      <td>0</td>\n",
              "      <td>4.0</td>\n",
              "      <td>4</td>\n",
              "      <td>1</td>\n",
              "      <td>3</td>\n",
              "      <td>3</td>\n",
              "      <td>1</td>\n",
              "      <td>0.0</td>\n",
              "      <td>0</td>\n",
              "      <td>ISFP</td>\n",
              "    </tr>\n",
              "    <tr>\n",
              "      <th>130</th>\n",
              "      <td>4</td>\n",
              "      <td>3.0</td>\n",
              "      <td>3</td>\n",
              "      <td>0</td>\n",
              "      <td>1</td>\n",
              "      <td>3</td>\n",
              "      <td>0</td>\n",
              "      <td>0.0</td>\n",
              "      <td>1</td>\n",
              "      <td>ISFJ</td>\n",
              "    </tr>\n",
              "    <tr>\n",
              "      <th>131</th>\n",
              "      <td>0</td>\n",
              "      <td>2.0</td>\n",
              "      <td>3</td>\n",
              "      <td>1</td>\n",
              "      <td>2</td>\n",
              "      <td>3</td>\n",
              "      <td>2</td>\n",
              "      <td>0.0</td>\n",
              "      <td>0</td>\n",
              "      <td>INFP</td>\n",
              "    </tr>\n",
              "    <tr>\n",
              "      <th>132</th>\n",
              "      <td>0</td>\n",
              "      <td>3.0</td>\n",
              "      <td>3</td>\n",
              "      <td>1</td>\n",
              "      <td>2</td>\n",
              "      <td>3</td>\n",
              "      <td>0</td>\n",
              "      <td>0.0</td>\n",
              "      <td>1</td>\n",
              "      <td>INTJ</td>\n",
              "    </tr>\n",
              "    <tr>\n",
              "      <th>133</th>\n",
              "      <td>0</td>\n",
              "      <td>4.0</td>\n",
              "      <td>4</td>\n",
              "      <td>1</td>\n",
              "      <td>2</td>\n",
              "      <td>3</td>\n",
              "      <td>1</td>\n",
              "      <td>0.0</td>\n",
              "      <td>1</td>\n",
              "      <td>ISFP</td>\n",
              "    </tr>\n",
              "  </tbody>\n",
              "</table>\n",
              "<p>133 rows × 10 columns</p>\n",
              "</div>\n",
              "    <div class=\"colab-df-buttons\">\n",
              "\n",
              "  <div class=\"colab-df-container\">\n",
              "    <button class=\"colab-df-convert\" onclick=\"convertToInteractive('df-0ce5448a-15ad-4e06-825b-6f865b6b8383')\"\n",
              "            title=\"Convert this dataframe to an interactive table.\"\n",
              "            style=\"display:none;\">\n",
              "\n",
              "  <svg xmlns=\"http://www.w3.org/2000/svg\" height=\"24px\" viewBox=\"0 -960 960 960\">\n",
              "    <path d=\"M120-120v-720h720v720H120Zm60-500h600v-160H180v160Zm220 220h160v-160H400v160Zm0 220h160v-160H400v160ZM180-400h160v-160H180v160Zm440 0h160v-160H620v160ZM180-180h160v-160H180v160Zm440 0h160v-160H620v160Z\"/>\n",
              "  </svg>\n",
              "    </button>\n",
              "\n",
              "  <style>\n",
              "    .colab-df-container {\n",
              "      display:flex;\n",
              "      gap: 12px;\n",
              "    }\n",
              "\n",
              "    .colab-df-convert {\n",
              "      background-color: #E8F0FE;\n",
              "      border: none;\n",
              "      border-radius: 50%;\n",
              "      cursor: pointer;\n",
              "      display: none;\n",
              "      fill: #1967D2;\n",
              "      height: 32px;\n",
              "      padding: 0 0 0 0;\n",
              "      width: 32px;\n",
              "    }\n",
              "\n",
              "    .colab-df-convert:hover {\n",
              "      background-color: #E2EBFA;\n",
              "      box-shadow: 0px 1px 2px rgba(60, 64, 67, 0.3), 0px 1px 3px 1px rgba(60, 64, 67, 0.15);\n",
              "      fill: #174EA6;\n",
              "    }\n",
              "\n",
              "    .colab-df-buttons div {\n",
              "      margin-bottom: 4px;\n",
              "    }\n",
              "\n",
              "    [theme=dark] .colab-df-convert {\n",
              "      background-color: #3B4455;\n",
              "      fill: #D2E3FC;\n",
              "    }\n",
              "\n",
              "    [theme=dark] .colab-df-convert:hover {\n",
              "      background-color: #434B5C;\n",
              "      box-shadow: 0px 1px 3px 1px rgba(0, 0, 0, 0.15);\n",
              "      filter: drop-shadow(0px 1px 2px rgba(0, 0, 0, 0.3));\n",
              "      fill: #FFFFFF;\n",
              "    }\n",
              "  </style>\n",
              "\n",
              "    <script>\n",
              "      const buttonEl =\n",
              "        document.querySelector('#df-0ce5448a-15ad-4e06-825b-6f865b6b8383 button.colab-df-convert');\n",
              "      buttonEl.style.display =\n",
              "        google.colab.kernel.accessAllowed ? 'block' : 'none';\n",
              "\n",
              "      async function convertToInteractive(key) {\n",
              "        const element = document.querySelector('#df-0ce5448a-15ad-4e06-825b-6f865b6b8383');\n",
              "        const dataTable =\n",
              "          await google.colab.kernel.invokeFunction('convertToInteractive',\n",
              "                                                    [key], {});\n",
              "        if (!dataTable) return;\n",
              "\n",
              "        const docLinkHtml = 'Like what you see? Visit the ' +\n",
              "          '<a target=\"_blank\" href=https://colab.research.google.com/notebooks/data_table.ipynb>data table notebook</a>'\n",
              "          + ' to learn more about interactive tables.';\n",
              "        element.innerHTML = '';\n",
              "        dataTable['output_type'] = 'display_data';\n",
              "        await google.colab.output.renderOutput(dataTable, element);\n",
              "        const docLink = document.createElement('div');\n",
              "        docLink.innerHTML = docLinkHtml;\n",
              "        element.appendChild(docLink);\n",
              "      }\n",
              "    </script>\n",
              "  </div>\n",
              "\n",
              "\n",
              "<div id=\"df-01cfe0e1-8149-4d79-a588-ceb367a6a1d3\">\n",
              "  <button class=\"colab-df-quickchart\" onclick=\"quickchart('df-01cfe0e1-8149-4d79-a588-ceb367a6a1d3')\"\n",
              "            title=\"Suggest charts\"\n",
              "            style=\"display:none;\">\n",
              "\n",
              "<svg xmlns=\"http://www.w3.org/2000/svg\" height=\"24px\"viewBox=\"0 0 24 24\"\n",
              "     width=\"24px\">\n",
              "    <g>\n",
              "        <path d=\"M19 3H5c-1.1 0-2 .9-2 2v14c0 1.1.9 2 2 2h14c1.1 0 2-.9 2-2V5c0-1.1-.9-2-2-2zM9 17H7v-7h2v7zm4 0h-2V7h2v10zm4 0h-2v-4h2v4z\"/>\n",
              "    </g>\n",
              "</svg>\n",
              "  </button>\n",
              "\n",
              "<style>\n",
              "  .colab-df-quickchart {\n",
              "      --bg-color: #E8F0FE;\n",
              "      --fill-color: #1967D2;\n",
              "      --hover-bg-color: #E2EBFA;\n",
              "      --hover-fill-color: #174EA6;\n",
              "      --disabled-fill-color: #AAA;\n",
              "      --disabled-bg-color: #DDD;\n",
              "  }\n",
              "\n",
              "  [theme=dark] .colab-df-quickchart {\n",
              "      --bg-color: #3B4455;\n",
              "      --fill-color: #D2E3FC;\n",
              "      --hover-bg-color: #434B5C;\n",
              "      --hover-fill-color: #FFFFFF;\n",
              "      --disabled-bg-color: #3B4455;\n",
              "      --disabled-fill-color: #666;\n",
              "  }\n",
              "\n",
              "  .colab-df-quickchart {\n",
              "    background-color: var(--bg-color);\n",
              "    border: none;\n",
              "    border-radius: 50%;\n",
              "    cursor: pointer;\n",
              "    display: none;\n",
              "    fill: var(--fill-color);\n",
              "    height: 32px;\n",
              "    padding: 0;\n",
              "    width: 32px;\n",
              "  }\n",
              "\n",
              "  .colab-df-quickchart:hover {\n",
              "    background-color: var(--hover-bg-color);\n",
              "    box-shadow: 0 1px 2px rgba(60, 64, 67, 0.3), 0 1px 3px 1px rgba(60, 64, 67, 0.15);\n",
              "    fill: var(--button-hover-fill-color);\n",
              "  }\n",
              "\n",
              "  .colab-df-quickchart-complete:disabled,\n",
              "  .colab-df-quickchart-complete:disabled:hover {\n",
              "    background-color: var(--disabled-bg-color);\n",
              "    fill: var(--disabled-fill-color);\n",
              "    box-shadow: none;\n",
              "  }\n",
              "\n",
              "  .colab-df-spinner {\n",
              "    border: 2px solid var(--fill-color);\n",
              "    border-color: transparent;\n",
              "    border-bottom-color: var(--fill-color);\n",
              "    animation:\n",
              "      spin 1s steps(1) infinite;\n",
              "  }\n",
              "\n",
              "  @keyframes spin {\n",
              "    0% {\n",
              "      border-color: transparent;\n",
              "      border-bottom-color: var(--fill-color);\n",
              "      border-left-color: var(--fill-color);\n",
              "    }\n",
              "    20% {\n",
              "      border-color: transparent;\n",
              "      border-left-color: var(--fill-color);\n",
              "      border-top-color: var(--fill-color);\n",
              "    }\n",
              "    30% {\n",
              "      border-color: transparent;\n",
              "      border-left-color: var(--fill-color);\n",
              "      border-top-color: var(--fill-color);\n",
              "      border-right-color: var(--fill-color);\n",
              "    }\n",
              "    40% {\n",
              "      border-color: transparent;\n",
              "      border-right-color: var(--fill-color);\n",
              "      border-top-color: var(--fill-color);\n",
              "    }\n",
              "    60% {\n",
              "      border-color: transparent;\n",
              "      border-right-color: var(--fill-color);\n",
              "    }\n",
              "    80% {\n",
              "      border-color: transparent;\n",
              "      border-right-color: var(--fill-color);\n",
              "      border-bottom-color: var(--fill-color);\n",
              "    }\n",
              "    90% {\n",
              "      border-color: transparent;\n",
              "      border-bottom-color: var(--fill-color);\n",
              "    }\n",
              "  }\n",
              "</style>\n",
              "\n",
              "  <script>\n",
              "    async function quickchart(key) {\n",
              "      const quickchartButtonEl =\n",
              "        document.querySelector('#' + key + ' button');\n",
              "      quickchartButtonEl.disabled = true;  // To prevent multiple clicks.\n",
              "      quickchartButtonEl.classList.add('colab-df-spinner');\n",
              "      try {\n",
              "        const charts = await google.colab.kernel.invokeFunction(\n",
              "            'suggestCharts', [key], {});\n",
              "      } catch (error) {\n",
              "        console.error('Error during call to suggestCharts:', error);\n",
              "      }\n",
              "      quickchartButtonEl.classList.remove('colab-df-spinner');\n",
              "      quickchartButtonEl.classList.add('colab-df-quickchart-complete');\n",
              "    }\n",
              "    (() => {\n",
              "      let quickchartButtonEl =\n",
              "        document.querySelector('#df-01cfe0e1-8149-4d79-a588-ceb367a6a1d3 button');\n",
              "      quickchartButtonEl.style.display =\n",
              "        google.colab.kernel.accessAllowed ? 'block' : 'none';\n",
              "    })();\n",
              "  </script>\n",
              "</div>\n",
              "\n",
              "    </div>\n",
              "  </div>\n"
            ],
            "application/vnd.google.colaboratory.intrinsic+json": {
              "type": "dataframe",
              "summary": "{\n  \"name\": \"data\",\n  \"rows\": 133,\n  \"fields\": [\n    {\n      \"column\": \"user_id\",\n      \"properties\": {\n        \"dtype\": \"number\",\n        \"std\": 38,\n        \"min\": 1,\n        \"max\": 133,\n        \"num_unique_values\": 133,\n        \"samples\": [\n          52,\n          70,\n          32\n        ],\n        \"semantic_type\": \"\",\n        \"description\": \"\"\n      }\n    },\n    {\n      \"column\": \"domitory\",\n      \"properties\": {\n        \"dtype\": \"number\",\n        \"std\": 1,\n        \"min\": 0,\n        \"max\": 4,\n        \"num_unique_values\": 5,\n        \"samples\": [\n          1,\n          4,\n          2\n        ],\n        \"semantic_type\": \"\",\n        \"description\": \"\"\n      }\n    },\n    {\n      \"column\": \"age\",\n      \"properties\": {\n        \"dtype\": \"number\",\n        \"std\": 1.3867163673457406,\n        \"min\": 0.0,\n        \"max\": 4.0,\n        \"num_unique_values\": 5,\n        \"samples\": [\n          3.0,\n          2.0,\n          4.0\n        ],\n        \"semantic_type\": \"\",\n        \"description\": \"\"\n      }\n    },\n    {\n      \"column\": \"student_id\",\n      \"properties\": {\n        \"dtype\": \"number\",\n        \"std\": 1,\n        \"min\": 0,\n        \"max\": 4,\n        \"num_unique_values\": 5,\n        \"samples\": [\n          3,\n          1,\n          4\n        ],\n        \"semantic_type\": \"\",\n        \"description\": \"\"\n      }\n    },\n    {\n      \"column\": \"gender\",\n      \"properties\": {\n        \"dtype\": \"number\",\n        \"std\": 0,\n        \"min\": 0,\n        \"max\": 1,\n        \"num_unique_values\": 2,\n        \"samples\": [\n          0,\n          1\n        ],\n        \"semantic_type\": \"\",\n        \"description\": \"\"\n      }\n    },\n    {\n      \"column\": \"major\",\n      \"properties\": {\n        \"dtype\": \"number\",\n        \"std\": 1,\n        \"min\": 0,\n        \"max\": 4,\n        \"num_unique_values\": 5,\n        \"samples\": [\n          0,\n          1\n        ],\n        \"semantic_type\": \"\",\n        \"description\": \"\"\n      }\n    },\n    {\n      \"column\": \"bedtime\",\n      \"properties\": {\n        \"dtype\": \"number\",\n        \"std\": 0,\n        \"min\": 1,\n        \"max\": 4,\n        \"num_unique_values\": 4,\n        \"samples\": [\n          3,\n          1\n        ],\n        \"semantic_type\": \"\",\n        \"description\": \"\"\n      }\n    },\n    {\n      \"column\": \"clean_duration\",\n      \"properties\": {\n        \"dtype\": \"number\",\n        \"std\": 0,\n        \"min\": 0,\n        \"max\": 2,\n        \"num_unique_values\": 3,\n        \"samples\": [\n          0,\n          1\n        ],\n        \"semantic_type\": \"\",\n        \"description\": \"\"\n      }\n    },\n    {\n      \"column\": \"smoke\",\n      \"properties\": {\n        \"dtype\": \"number\",\n        \"std\": 0.32072145862889295,\n        \"min\": 0.0,\n        \"max\": 1.0,\n        \"num_unique_values\": 2,\n        \"samples\": [\n          1.0,\n          0.0\n        ],\n        \"semantic_type\": \"\",\n        \"description\": \"\"\n      }\n    },\n    {\n      \"column\": \"alcohol\",\n      \"properties\": {\n        \"dtype\": \"number\",\n        \"std\": 0,\n        \"min\": 0,\n        \"max\": 3,\n        \"num_unique_values\": 4,\n        \"samples\": [\n          1,\n          3\n        ],\n        \"semantic_type\": \"\",\n        \"description\": \"\"\n      }\n    },\n    {\n      \"column\": \"mbti\",\n      \"properties\": {\n        \"dtype\": \"category\",\n        \"num_unique_values\": 21,\n        \"samples\": [\n          \"ENTJ\",\n          \"ISFP/ESFP\"\n        ],\n        \"semantic_type\": \"\",\n        \"description\": \"\"\n      }\n    }\n  ]\n}"
            }
          },
          "metadata": {},
          "execution_count": 6
        }
      ]
    },
    {
      "cell_type": "code",
      "source": [
        "# 범주형 데이터 to 수치형 벡터 (one-hot encoding)\n",
        "\n",
        "data_one_hot = {\n",
        "  'domitory' : [0, 1, 2, 3, 4],\n",
        "  'age' : [0, 1, 2, 3, 4],\n",
        "  'student_id' : [0, 1, 2, 3, 4],\n",
        "  'gender' : [0, 1],\n",
        "  'major' : [0, 1, 2, 3, 4, 5],\n",
        "  'bedtime' : [0, 1, 2, 3, 4],\n",
        "  'clean_duration' : [0, 1, 2],\n",
        "  'smoke' : [0, 1],\n",
        "  'mbti' : ['ISTJ', 'ISFJ', 'INFJ', 'INTJ', 'ISTP', 'ISFP', 'INFP', 'INTP', 'ESTP', 'ESFP', 'ENFP', 'ENTP', 'ESTJ', 'ESFJ', 'ESFJ', 'ENFJ', 'ENTJ']\n",
        "}\n",
        "\n",
        "encoder = OneHotEncoder()\n",
        "encoded_features = encoder.fit_transform(data).toarray()"
      ],
      "metadata": {
        "id": "9l3PmZhfYVW3"
      },
      "execution_count": 7,
      "outputs": []
    },
    {
      "cell_type": "markdown",
      "source": [
        "# 2. Data Filtering & Modeling"
      ],
      "metadata": {
        "id": "8Ky9mKggzcuB"
      }
    },
    {
      "cell_type": "markdown",
      "source": [
        "## Faiss 유사도"
      ],
      "metadata": {
        "id": "7tMbTLTk2ZUK"
      }
    },
    {
      "cell_type": "code",
      "source": [
        "# 벡터의 차원\n",
        "d = encoded_features.shape[1]\n",
        "\n",
        "# L2 거리를 사용하는 인덱스 생성\n",
        "index = faiss.IndexFlatL2(d)\n",
        "# 인덱스에 데이터 추가\n",
        "index.add(encoded_features.astype('float32'))\n",
        "\n",
        "# 가장 가까운 이웃의 수 (임의 설정)\n",
        "k = 5\n",
        "\n",
        "# 쿼리 벡터에 가장 가까운 이웃 검색\n",
        "distances, indices = index.search(encoded_features.astype('float32'), k)"
      ],
      "metadata": {
        "id": "n1MAQqZGcRkl"
      },
      "execution_count": 8,
      "outputs": []
    },
    {
      "cell_type": "code",
      "source": [
        "print(indices[0])"
      ],
      "metadata": {
        "colab": {
          "base_uri": "https://localhost:8080/"
        },
        "id": "-LpAVhHHcvP0",
        "outputId": "028ec14e-f193-4e44-c0c9-5402c9be46b5"
      },
      "execution_count": 9,
      "outputs": [
        {
          "output_type": "stream",
          "name": "stdout",
          "text": [
            "[ 0  3  9 51 57]\n"
          ]
        }
      ]
    },
    {
      "cell_type": "markdown",
      "source": [
        "## 사용자 가중치 별 sort 함수"
      ],
      "metadata": {
        "id": "Kjp_VwQ03hHb"
      }
    },
    {
      "cell_type": "code",
      "source": [
        "import numpy as np\n",
        "\n",
        "class FeatureSorter:\n",
        "    def __init__(self, encoded_data):\n",
        "        self.encoded_data = encoded_data\n",
        "        self.num_features = encoded_data.shape[1]\n",
        "\n",
        "    def sort_features_by_weight(self, weights):\n",
        "        # 가중치 배열의 크기를 feature 개수에 맞게 조정\n",
        "        weights = np.pad(weights, (0, self.num_features - len(weights)), mode='constant')\n",
        "        # feature들의 가중치를 계산\n",
        "        weighted_sum = np.dot(self.encoded_data, weights)\n",
        "        # 가중치를 기반으로 feature들을 정렬한 인덱스를 반환\n",
        "        sorted_indices = np.argsort(weighted_sum)[::-1]  # 내림차순으로 정렬\n",
        "        return sorted_indices"
      ],
      "metadata": {
        "id": "-1KTCZbG_uC7"
      },
      "execution_count": 10,
      "outputs": []
    },
    {
      "cell_type": "code",
      "source": [
        "# 예시로 사용자가 설정한 가중치\n",
        "user_weights = np.array([0.8, 0.5, 0.6, 0.3, 0.9, 0.7, 0.4, 0.2])\n",
        "\n",
        "# FeatureSorter 클래스를 이용하여 feature를 정렬\n",
        "feature_sorter = FeatureSorter(encoded_features)\n",
        "sorted_indices = feature_sorter.sort_features_by_weight(user_weights)\n",
        "\n",
        "# 정렬된 feature들의 인덱스 출력\n",
        "print(\"Sorted feature indices:\", sorted_indices)"
      ],
      "metadata": {
        "colab": {
          "base_uri": "https://localhost:8080/"
        },
        "id": "x7VbYpbDAPwa",
        "outputId": "afc6d412-4f2c-458d-9d71-e3df027ebaf2"
      },
      "execution_count": 11,
      "outputs": [
        {
          "output_type": "stream",
          "name": "stdout",
          "text": [
            "Sorted feature indices: [  0   3  15  10   9  39  52  32  53  57  33  82 114  22  23  24  25  40\n",
            "  29  14  30 124  71  62 101  54  26 126  46 112  51  65  63  80  85  69\n",
            "  76  74  60  59  45  58  20 130 127  31 129  43  41  27  35  37  36  98\n",
            "  38  21  49  34   1   2   4   5   6   7  47   8  11  12  13  28  17  42\n",
            "  18  19  16 132  66  73 110 115 121  86  84 123 125  77 122  72  68  61\n",
            " 131 128  67  70  64  81  48  44  99  75  93 107 111 108 109 118 113 116\n",
            " 117 119 120 105 106  94 104  88 102 100  97  96  87  92 103  90  50  56\n",
            "  89  55  95  83  79  78  91]\n"
          ]
        }
      ]
    },
    {
      "cell_type": "markdown",
      "source": [
        "### KNN"
      ],
      "metadata": {
        "id": "ZY35qGSj35j8"
      }
    },
    {
      "cell_type": "code",
      "source": [
        "# KNN\n",
        "class KNN():\n",
        "    # 초기에 k 값을 지정\n",
        "    def __init__(self,k=3):\n",
        "        self.k=k\n",
        "\n",
        "    # Train: Train데이터 모두 memory에 저장\n",
        "    def train(self,X,y):\n",
        "        self.X=X\n",
        "        self.y=y\n",
        "\n",
        "    # train data와의 distance 계산\n",
        "    # - X_test:  (N, D)\n",
        "    # - X_train: (M, D)\n",
        "    # - dists:   (N, M) / test point별로 train point간의 거리행렬\n",
        "    def get_distance(self, X_test, method=\"L2\"):\n",
        "        N = len(X_test)\n",
        "        M = len(self.X)\n",
        "        X_train_t = np.tile(self.X, (N,1))\n",
        "        X_test_t = np.repeat(X_test, M, axis=0)\n",
        "\n",
        "        if method==\"L2\":\n",
        "            distance = np.sqrt(np.sum((X_train_t-X_test_t)**2,axis=1)).reshape(N,M)\n",
        "        return distance\n",
        "\n",
        "    # 다수결 투표를 통한 label 도출\n",
        "    def predict(self, X_test):\n",
        "        N = len(X_test)\n",
        "        y_hat = np.zeros(N)\n",
        "\n",
        "        distance = self.get_distance(X_test, method=\"L2\")\n",
        "        arg_dist = distance.argsort()\n",
        "        for i in range(N):\n",
        "            row = arg_dist[i]\n",
        "            k_neighbor = self.y[row[:self.k]]\n",
        "            target, cnt = np.unique(k_neighbor, return_counts=True)\n",
        "            y_hat[i] = target[np.argmax(cnt)]\n",
        "        return y_hat"
      ],
      "metadata": {
        "id": "66iLGDYByinF"
      },
      "execution_count": 12,
      "outputs": []
    },
    {
      "cell_type": "markdown",
      "source": [
        "### NCF"
      ],
      "metadata": {
        "id": "TnDCQ_BM36-l"
      }
    },
    {
      "cell_type": "code",
      "source": [
        "# NCF(Neural Collaborative Filtering)\n",
        "class NCF(torch.nn.Module):\n",
        "    def __init__(self, config):\n",
        "        super().__init__()\n",
        "        self.config = config\n",
        "\n",
        "        self.num_users = config[\"num_users\"]\n",
        "        self.num_items = config[\"num_items\"]\n",
        "        self.latent_dim_mf = config[\"latent_dim_mf\"]\n",
        "        self.latent_dim_mlp = config[\"latent_dim_mlp\"]\n",
        "\n",
        "        # Input\n",
        "        self.embedding_user_mlp = torch.nn.Embedding(num_embeddings=self.num_users, embedding_dim=self.latent_dim_mlp)\n",
        "        self.embedding_item_mlp = torch.nn.Embedding(num_embeddings=self.num_items, embedding_dim=self.latent_dim_mlp)\n",
        "        self.embedding_user_mf = torch.nn.Embedding(num_embeddings=self.num_users, embedding_dim=self.latent_dim_mf)\n",
        "        self.embedding_item_mf = torch.nn.Embedding(num_embeddings=self.num_items, embedding_dim=self.latent_dim_mf)\n",
        "\n",
        "        # Layer\n",
        "        self.fc_layers = torch.nn.ModuleList()\n",
        "        for idx, (in_size, out_size) in enumerate(zip(config[\"layers\"][:-1], config[\"layers\"][1:])):\n",
        "            self.fc_layers.append(torch.nn.Linear(in_size, out_size))\n",
        "\n",
        "        # Output\n",
        "        self.last_layer = torch.nn.Linear(in_features=(config[\"layers\"][-1] + self.latent_dim_mf), out_features=1)\n",
        "        self.output_layer = torch.nn.Sigmoid()\n",
        "\n",
        "    def forward(self, user_indices, item_indices):\n",
        "        user_embedding_mlp = self.embedding_user_mlp(user_indices)\n",
        "        item_embedding_mlp = self.embedding_item_mlp(item_indices)\n",
        "        user_embedding_mf = self.embedding_user_mf(user_indices)\n",
        "        item_embedding_mf = self.embedding_item_mf(item_indices)\n",
        "\n",
        "        # GMF\n",
        "        gmf_layer = torch.mul(user_embedding_mf, item_embedding_mf)\n",
        "\n",
        "        # MLP\n",
        "        mlp_concat_layer = torch.cat([user_embedding_mlp, item_embedding_mlp], dim=-1)\n",
        "        for idx in range(len(self.fc_layers)):\n",
        "            mlp_concat_layer = self.fc_layers[idx](mlp_concat_layer)\n",
        "            mlp_concat_layer = torch.nn.ReLU()(mlp_concat_layer)\n",
        "\n",
        "        # Concatenate\n",
        "        neu_mf_layer = torch.cat([gmf_layer, mlp_concat_layer], dim=-1)\n",
        "\n",
        "        # Output\n",
        "        return self.output_layer(self.last_layer(neu_mf_layer)).view(-1)"
      ],
      "metadata": {
        "id": "8A90p5EWyjSz"
      },
      "execution_count": 13,
      "outputs": []
    },
    {
      "cell_type": "code",
      "source": [],
      "metadata": {
        "id": "00ohrZmEAS0z"
      },
      "execution_count": 13,
      "outputs": []
    }
  ]
}