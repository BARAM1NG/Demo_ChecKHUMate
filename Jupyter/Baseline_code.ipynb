{
  "nbformat": 4,
  "nbformat_minor": 0,
  "metadata": {
    "colab": {
      "provenance": []
    },
    "kernelspec": {
      "name": "python3",
      "display_name": "Python 3"
    },
    "language_info": {
      "name": "python"
    }
  },
  "cells": [
    {
      "cell_type": "code",
      "execution_count": 15,
      "metadata": {
        "colab": {
          "base_uri": "https://localhost:8080/"
        },
        "id": "sNrL3shku5Lv",
        "outputId": "2e7c6e71-42f3-4694-925b-a8513eee8dc2"
      },
      "outputs": [
        {
          "output_type": "stream",
          "name": "stdout",
          "text": [
            "Drive already mounted at /content/drive; to attempt to forcibly remount, call drive.mount(\"/content/drive\", force_remount=True).\n"
          ]
        }
      ],
      "source": [
        "# 구글 드라이브 마운트\n",
        "from google.colab import drive\n",
        "\n",
        "drive.mount('/content/drive')"
      ]
    },
    {
      "cell_type": "markdown",
      "source": [
        "# 패키지 import"
      ],
      "metadata": {
        "id": "TD02YWqGAF6v"
      }
    },
    {
      "cell_type": "code",
      "source": [
        "# 필요한 패키지 임포트\n",
        "import pandas as pd\n",
        "import numpy as np\n",
        "import matplotlib.pyplot as plt\n",
        "import seaborn as sns\n",
        "import warnings\n",
        "import math\n",
        "from collections import Counter\n",
        "from sklearn.model_selection import train_test_split\n",
        "from sklearn.preprocessing import OneHotEncoder\n",
        "import torch\n",
        "warnings.filterwarnings('ignore')"
      ],
      "metadata": {
        "id": "xS9H0XcSvAoS"
      },
      "execution_count": 16,
      "outputs": []
    },
    {
      "cell_type": "code",
      "source": [
        "!pip install faiss-cpu\n",
        "import faiss"
      ],
      "metadata": {
        "id": "pfkXot3qREab",
        "outputId": "1931115a-dda4-45e3-fe84-c79f3ffab131",
        "colab": {
          "base_uri": "https://localhost:8080/"
        }
      },
      "execution_count": 17,
      "outputs": [
        {
          "output_type": "stream",
          "name": "stdout",
          "text": [
            "Requirement already satisfied: faiss-cpu in /usr/local/lib/python3.10/dist-packages (1.8.0)\n",
            "Requirement already satisfied: numpy in /usr/local/lib/python3.10/dist-packages (from faiss-cpu) (1.25.2)\n"
          ]
        }
      ]
    },
    {
      "cell_type": "markdown",
      "source": [
        "# 1-1. Import Data"
      ],
      "metadata": {
        "id": "xLVYcGDPzNt5"
      }
    },
    {
      "cell_type": "code",
      "source": [
        "data = pd.read_csv('/content/drive/MyDrive/ChecKHUMate/merge_domitory_data.csv')"
      ],
      "metadata": {
        "id": "_uz7-YJZzVcZ"
      },
      "execution_count": 19,
      "outputs": []
    },
    {
      "cell_type": "markdown",
      "source": [
        "# 1-2. Data preprocessing"
      ],
      "metadata": {
        "id": "gJINIynT8A1A"
      }
    },
    {
      "cell_type": "code",
      "source": [
        "data"
      ],
      "metadata": {
        "colab": {
          "base_uri": "https://localhost:8080/",
          "height": 443
        },
        "id": "zbNwkFZ8BvXA",
        "outputId": "f9c68e81-1fa8-44e9-cb87-aefa815f9293"
      },
      "execution_count": 20,
      "outputs": [
        {
          "output_type": "execute_result",
          "data": {
            "text/plain": [
              "     user_id  domitory  age  student_id  gender  major  bedtime  \\\n",
              "0          1         0  0.0           0       1      2        2   \n",
              "1          2         0  3.0           3       1      2        2   \n",
              "2          3         0  3.0           3       1      2        2   \n",
              "3          4         0  0.0           0       1      2        2   \n",
              "4          5         0  3.0           3       0      0        2   \n",
              "..       ...       ...  ...         ...     ...    ...      ...   \n",
              "128      129         0  4.0           4       1      3        3   \n",
              "129      130         4  3.0           3       0      1        3   \n",
              "130      131         0  2.0           3       1      2        3   \n",
              "131      132         0  3.0           3       1      2        3   \n",
              "132      133         0  4.0           4       1      2        3   \n",
              "\n",
              "     clean_duration  smoke  alcohol  ... wish_student_id  wish_gender  \\\n",
              "0                 0    0.0        0  ...               0            1   \n",
              "1                 1    0.0        1  ...               3            1   \n",
              "2                 0    1.0        1  ...               3            1   \n",
              "3                 1    0.0        0  ...               0            1   \n",
              "4                 0    0.0        0  ...               3            0   \n",
              "..              ...    ...      ...  ...             ...          ...   \n",
              "128               1    0.0        0  ...               4            1   \n",
              "129               0    0.0        1  ...               3            0   \n",
              "130               2    0.0        0  ...               3            1   \n",
              "131               0    0.0        1  ...               3            1   \n",
              "132               1    0.0        1  ...               4            1   \n",
              "\n",
              "     wish_major  wish_bedtime  wish_clean_duration  wish_smoke  wish_alcohol  \\\n",
              "0             2             2                    0         0.0             0   \n",
              "1             2             2                    1         0.0             1   \n",
              "2             2             2                    0         1.0             1   \n",
              "3             2             2                    1         0.0             0   \n",
              "4             0             2                    0         0.0             0   \n",
              "..          ...           ...                  ...         ...           ...   \n",
              "128           3             3                    1         0.0             0   \n",
              "129           1             3                    0         0.0             1   \n",
              "130           2             3                    2         0.0             0   \n",
              "131           2             3                    0         0.0             1   \n",
              "132           2             3                    1         0.0             1   \n",
              "\n",
              "     wish_mbti  wish_alarm  wish_activity  \n",
              "0         ENTJ         2.0            1.0  \n",
              "1         ISFP         1.0            2.0  \n",
              "2         ESTJ         2.0            2.0  \n",
              "3         ISFJ         2.0            1.0  \n",
              "4         ISFJ         2.0            0.0  \n",
              "..         ...         ...            ...  \n",
              "128       ISFP         1.0            NaN  \n",
              "129       ISFJ         2.0            NaN  \n",
              "130       INFP         0.0            NaN  \n",
              "131       INTJ         1.0            NaN  \n",
              "132       ISFP         1.0            NaN  \n",
              "\n",
              "[133 rows x 25 columns]"
            ],
            "text/html": [
              "\n",
              "  <div id=\"df-b3b81478-9dcd-44ad-a7ae-382590a5fe4c\" class=\"colab-df-container\">\n",
              "    <div>\n",
              "<style scoped>\n",
              "    .dataframe tbody tr th:only-of-type {\n",
              "        vertical-align: middle;\n",
              "    }\n",
              "\n",
              "    .dataframe tbody tr th {\n",
              "        vertical-align: top;\n",
              "    }\n",
              "\n",
              "    .dataframe thead th {\n",
              "        text-align: right;\n",
              "    }\n",
              "</style>\n",
              "<table border=\"1\" class=\"dataframe\">\n",
              "  <thead>\n",
              "    <tr style=\"text-align: right;\">\n",
              "      <th></th>\n",
              "      <th>user_id</th>\n",
              "      <th>domitory</th>\n",
              "      <th>age</th>\n",
              "      <th>student_id</th>\n",
              "      <th>gender</th>\n",
              "      <th>major</th>\n",
              "      <th>bedtime</th>\n",
              "      <th>clean_duration</th>\n",
              "      <th>smoke</th>\n",
              "      <th>alcohol</th>\n",
              "      <th>...</th>\n",
              "      <th>wish_student_id</th>\n",
              "      <th>wish_gender</th>\n",
              "      <th>wish_major</th>\n",
              "      <th>wish_bedtime</th>\n",
              "      <th>wish_clean_duration</th>\n",
              "      <th>wish_smoke</th>\n",
              "      <th>wish_alcohol</th>\n",
              "      <th>wish_mbti</th>\n",
              "      <th>wish_alarm</th>\n",
              "      <th>wish_activity</th>\n",
              "    </tr>\n",
              "  </thead>\n",
              "  <tbody>\n",
              "    <tr>\n",
              "      <th>0</th>\n",
              "      <td>1</td>\n",
              "      <td>0</td>\n",
              "      <td>0.0</td>\n",
              "      <td>0</td>\n",
              "      <td>1</td>\n",
              "      <td>2</td>\n",
              "      <td>2</td>\n",
              "      <td>0</td>\n",
              "      <td>0.0</td>\n",
              "      <td>0</td>\n",
              "      <td>...</td>\n",
              "      <td>0</td>\n",
              "      <td>1</td>\n",
              "      <td>2</td>\n",
              "      <td>2</td>\n",
              "      <td>0</td>\n",
              "      <td>0.0</td>\n",
              "      <td>0</td>\n",
              "      <td>ENTJ</td>\n",
              "      <td>2.0</td>\n",
              "      <td>1.0</td>\n",
              "    </tr>\n",
              "    <tr>\n",
              "      <th>1</th>\n",
              "      <td>2</td>\n",
              "      <td>0</td>\n",
              "      <td>3.0</td>\n",
              "      <td>3</td>\n",
              "      <td>1</td>\n",
              "      <td>2</td>\n",
              "      <td>2</td>\n",
              "      <td>1</td>\n",
              "      <td>0.0</td>\n",
              "      <td>1</td>\n",
              "      <td>...</td>\n",
              "      <td>3</td>\n",
              "      <td>1</td>\n",
              "      <td>2</td>\n",
              "      <td>2</td>\n",
              "      <td>1</td>\n",
              "      <td>0.0</td>\n",
              "      <td>1</td>\n",
              "      <td>ISFP</td>\n",
              "      <td>1.0</td>\n",
              "      <td>2.0</td>\n",
              "    </tr>\n",
              "    <tr>\n",
              "      <th>2</th>\n",
              "      <td>3</td>\n",
              "      <td>0</td>\n",
              "      <td>3.0</td>\n",
              "      <td>3</td>\n",
              "      <td>1</td>\n",
              "      <td>2</td>\n",
              "      <td>2</td>\n",
              "      <td>0</td>\n",
              "      <td>1.0</td>\n",
              "      <td>1</td>\n",
              "      <td>...</td>\n",
              "      <td>3</td>\n",
              "      <td>1</td>\n",
              "      <td>2</td>\n",
              "      <td>2</td>\n",
              "      <td>0</td>\n",
              "      <td>1.0</td>\n",
              "      <td>1</td>\n",
              "      <td>ESTJ</td>\n",
              "      <td>2.0</td>\n",
              "      <td>2.0</td>\n",
              "    </tr>\n",
              "    <tr>\n",
              "      <th>3</th>\n",
              "      <td>4</td>\n",
              "      <td>0</td>\n",
              "      <td>0.0</td>\n",
              "      <td>0</td>\n",
              "      <td>1</td>\n",
              "      <td>2</td>\n",
              "      <td>2</td>\n",
              "      <td>1</td>\n",
              "      <td>0.0</td>\n",
              "      <td>0</td>\n",
              "      <td>...</td>\n",
              "      <td>0</td>\n",
              "      <td>1</td>\n",
              "      <td>2</td>\n",
              "      <td>2</td>\n",
              "      <td>1</td>\n",
              "      <td>0.0</td>\n",
              "      <td>0</td>\n",
              "      <td>ISFJ</td>\n",
              "      <td>2.0</td>\n",
              "      <td>1.0</td>\n",
              "    </tr>\n",
              "    <tr>\n",
              "      <th>4</th>\n",
              "      <td>5</td>\n",
              "      <td>0</td>\n",
              "      <td>3.0</td>\n",
              "      <td>3</td>\n",
              "      <td>0</td>\n",
              "      <td>0</td>\n",
              "      <td>2</td>\n",
              "      <td>0</td>\n",
              "      <td>0.0</td>\n",
              "      <td>0</td>\n",
              "      <td>...</td>\n",
              "      <td>3</td>\n",
              "      <td>0</td>\n",
              "      <td>0</td>\n",
              "      <td>2</td>\n",
              "      <td>0</td>\n",
              "      <td>0.0</td>\n",
              "      <td>0</td>\n",
              "      <td>ISFJ</td>\n",
              "      <td>2.0</td>\n",
              "      <td>0.0</td>\n",
              "    </tr>\n",
              "    <tr>\n",
              "      <th>...</th>\n",
              "      <td>...</td>\n",
              "      <td>...</td>\n",
              "      <td>...</td>\n",
              "      <td>...</td>\n",
              "      <td>...</td>\n",
              "      <td>...</td>\n",
              "      <td>...</td>\n",
              "      <td>...</td>\n",
              "      <td>...</td>\n",
              "      <td>...</td>\n",
              "      <td>...</td>\n",
              "      <td>...</td>\n",
              "      <td>...</td>\n",
              "      <td>...</td>\n",
              "      <td>...</td>\n",
              "      <td>...</td>\n",
              "      <td>...</td>\n",
              "      <td>...</td>\n",
              "      <td>...</td>\n",
              "      <td>...</td>\n",
              "      <td>...</td>\n",
              "    </tr>\n",
              "    <tr>\n",
              "      <th>128</th>\n",
              "      <td>129</td>\n",
              "      <td>0</td>\n",
              "      <td>4.0</td>\n",
              "      <td>4</td>\n",
              "      <td>1</td>\n",
              "      <td>3</td>\n",
              "      <td>3</td>\n",
              "      <td>1</td>\n",
              "      <td>0.0</td>\n",
              "      <td>0</td>\n",
              "      <td>...</td>\n",
              "      <td>4</td>\n",
              "      <td>1</td>\n",
              "      <td>3</td>\n",
              "      <td>3</td>\n",
              "      <td>1</td>\n",
              "      <td>0.0</td>\n",
              "      <td>0</td>\n",
              "      <td>ISFP</td>\n",
              "      <td>1.0</td>\n",
              "      <td>NaN</td>\n",
              "    </tr>\n",
              "    <tr>\n",
              "      <th>129</th>\n",
              "      <td>130</td>\n",
              "      <td>4</td>\n",
              "      <td>3.0</td>\n",
              "      <td>3</td>\n",
              "      <td>0</td>\n",
              "      <td>1</td>\n",
              "      <td>3</td>\n",
              "      <td>0</td>\n",
              "      <td>0.0</td>\n",
              "      <td>1</td>\n",
              "      <td>...</td>\n",
              "      <td>3</td>\n",
              "      <td>0</td>\n",
              "      <td>1</td>\n",
              "      <td>3</td>\n",
              "      <td>0</td>\n",
              "      <td>0.0</td>\n",
              "      <td>1</td>\n",
              "      <td>ISFJ</td>\n",
              "      <td>2.0</td>\n",
              "      <td>NaN</td>\n",
              "    </tr>\n",
              "    <tr>\n",
              "      <th>130</th>\n",
              "      <td>131</td>\n",
              "      <td>0</td>\n",
              "      <td>2.0</td>\n",
              "      <td>3</td>\n",
              "      <td>1</td>\n",
              "      <td>2</td>\n",
              "      <td>3</td>\n",
              "      <td>2</td>\n",
              "      <td>0.0</td>\n",
              "      <td>0</td>\n",
              "      <td>...</td>\n",
              "      <td>3</td>\n",
              "      <td>1</td>\n",
              "      <td>2</td>\n",
              "      <td>3</td>\n",
              "      <td>2</td>\n",
              "      <td>0.0</td>\n",
              "      <td>0</td>\n",
              "      <td>INFP</td>\n",
              "      <td>0.0</td>\n",
              "      <td>NaN</td>\n",
              "    </tr>\n",
              "    <tr>\n",
              "      <th>131</th>\n",
              "      <td>132</td>\n",
              "      <td>0</td>\n",
              "      <td>3.0</td>\n",
              "      <td>3</td>\n",
              "      <td>1</td>\n",
              "      <td>2</td>\n",
              "      <td>3</td>\n",
              "      <td>0</td>\n",
              "      <td>0.0</td>\n",
              "      <td>1</td>\n",
              "      <td>...</td>\n",
              "      <td>3</td>\n",
              "      <td>1</td>\n",
              "      <td>2</td>\n",
              "      <td>3</td>\n",
              "      <td>0</td>\n",
              "      <td>0.0</td>\n",
              "      <td>1</td>\n",
              "      <td>INTJ</td>\n",
              "      <td>1.0</td>\n",
              "      <td>NaN</td>\n",
              "    </tr>\n",
              "    <tr>\n",
              "      <th>132</th>\n",
              "      <td>133</td>\n",
              "      <td>0</td>\n",
              "      <td>4.0</td>\n",
              "      <td>4</td>\n",
              "      <td>1</td>\n",
              "      <td>2</td>\n",
              "      <td>3</td>\n",
              "      <td>1</td>\n",
              "      <td>0.0</td>\n",
              "      <td>1</td>\n",
              "      <td>...</td>\n",
              "      <td>4</td>\n",
              "      <td>1</td>\n",
              "      <td>2</td>\n",
              "      <td>3</td>\n",
              "      <td>1</td>\n",
              "      <td>0.0</td>\n",
              "      <td>1</td>\n",
              "      <td>ISFP</td>\n",
              "      <td>1.0</td>\n",
              "      <td>NaN</td>\n",
              "    </tr>\n",
              "  </tbody>\n",
              "</table>\n",
              "<p>133 rows × 25 columns</p>\n",
              "</div>\n",
              "    <div class=\"colab-df-buttons\">\n",
              "\n",
              "  <div class=\"colab-df-container\">\n",
              "    <button class=\"colab-df-convert\" onclick=\"convertToInteractive('df-b3b81478-9dcd-44ad-a7ae-382590a5fe4c')\"\n",
              "            title=\"Convert this dataframe to an interactive table.\"\n",
              "            style=\"display:none;\">\n",
              "\n",
              "  <svg xmlns=\"http://www.w3.org/2000/svg\" height=\"24px\" viewBox=\"0 -960 960 960\">\n",
              "    <path d=\"M120-120v-720h720v720H120Zm60-500h600v-160H180v160Zm220 220h160v-160H400v160Zm0 220h160v-160H400v160ZM180-400h160v-160H180v160Zm440 0h160v-160H620v160ZM180-180h160v-160H180v160Zm440 0h160v-160H620v160Z\"/>\n",
              "  </svg>\n",
              "    </button>\n",
              "\n",
              "  <style>\n",
              "    .colab-df-container {\n",
              "      display:flex;\n",
              "      gap: 12px;\n",
              "    }\n",
              "\n",
              "    .colab-df-convert {\n",
              "      background-color: #E8F0FE;\n",
              "      border: none;\n",
              "      border-radius: 50%;\n",
              "      cursor: pointer;\n",
              "      display: none;\n",
              "      fill: #1967D2;\n",
              "      height: 32px;\n",
              "      padding: 0 0 0 0;\n",
              "      width: 32px;\n",
              "    }\n",
              "\n",
              "    .colab-df-convert:hover {\n",
              "      background-color: #E2EBFA;\n",
              "      box-shadow: 0px 1px 2px rgba(60, 64, 67, 0.3), 0px 1px 3px 1px rgba(60, 64, 67, 0.15);\n",
              "      fill: #174EA6;\n",
              "    }\n",
              "\n",
              "    .colab-df-buttons div {\n",
              "      margin-bottom: 4px;\n",
              "    }\n",
              "\n",
              "    [theme=dark] .colab-df-convert {\n",
              "      background-color: #3B4455;\n",
              "      fill: #D2E3FC;\n",
              "    }\n",
              "\n",
              "    [theme=dark] .colab-df-convert:hover {\n",
              "      background-color: #434B5C;\n",
              "      box-shadow: 0px 1px 3px 1px rgba(0, 0, 0, 0.15);\n",
              "      filter: drop-shadow(0px 1px 2px rgba(0, 0, 0, 0.3));\n",
              "      fill: #FFFFFF;\n",
              "    }\n",
              "  </style>\n",
              "\n",
              "    <script>\n",
              "      const buttonEl =\n",
              "        document.querySelector('#df-b3b81478-9dcd-44ad-a7ae-382590a5fe4c button.colab-df-convert');\n",
              "      buttonEl.style.display =\n",
              "        google.colab.kernel.accessAllowed ? 'block' : 'none';\n",
              "\n",
              "      async function convertToInteractive(key) {\n",
              "        const element = document.querySelector('#df-b3b81478-9dcd-44ad-a7ae-382590a5fe4c');\n",
              "        const dataTable =\n",
              "          await google.colab.kernel.invokeFunction('convertToInteractive',\n",
              "                                                    [key], {});\n",
              "        if (!dataTable) return;\n",
              "\n",
              "        const docLinkHtml = 'Like what you see? Visit the ' +\n",
              "          '<a target=\"_blank\" href=https://colab.research.google.com/notebooks/data_table.ipynb>data table notebook</a>'\n",
              "          + ' to learn more about interactive tables.';\n",
              "        element.innerHTML = '';\n",
              "        dataTable['output_type'] = 'display_data';\n",
              "        await google.colab.output.renderOutput(dataTable, element);\n",
              "        const docLink = document.createElement('div');\n",
              "        docLink.innerHTML = docLinkHtml;\n",
              "        element.appendChild(docLink);\n",
              "      }\n",
              "    </script>\n",
              "  </div>\n",
              "\n",
              "\n",
              "<div id=\"df-10b2eebc-ffd8-4b3a-a44d-82b4133243a9\">\n",
              "  <button class=\"colab-df-quickchart\" onclick=\"quickchart('df-10b2eebc-ffd8-4b3a-a44d-82b4133243a9')\"\n",
              "            title=\"Suggest charts\"\n",
              "            style=\"display:none;\">\n",
              "\n",
              "<svg xmlns=\"http://www.w3.org/2000/svg\" height=\"24px\"viewBox=\"0 0 24 24\"\n",
              "     width=\"24px\">\n",
              "    <g>\n",
              "        <path d=\"M19 3H5c-1.1 0-2 .9-2 2v14c0 1.1.9 2 2 2h14c1.1 0 2-.9 2-2V5c0-1.1-.9-2-2-2zM9 17H7v-7h2v7zm4 0h-2V7h2v10zm4 0h-2v-4h2v4z\"/>\n",
              "    </g>\n",
              "</svg>\n",
              "  </button>\n",
              "\n",
              "<style>\n",
              "  .colab-df-quickchart {\n",
              "      --bg-color: #E8F0FE;\n",
              "      --fill-color: #1967D2;\n",
              "      --hover-bg-color: #E2EBFA;\n",
              "      --hover-fill-color: #174EA6;\n",
              "      --disabled-fill-color: #AAA;\n",
              "      --disabled-bg-color: #DDD;\n",
              "  }\n",
              "\n",
              "  [theme=dark] .colab-df-quickchart {\n",
              "      --bg-color: #3B4455;\n",
              "      --fill-color: #D2E3FC;\n",
              "      --hover-bg-color: #434B5C;\n",
              "      --hover-fill-color: #FFFFFF;\n",
              "      --disabled-bg-color: #3B4455;\n",
              "      --disabled-fill-color: #666;\n",
              "  }\n",
              "\n",
              "  .colab-df-quickchart {\n",
              "    background-color: var(--bg-color);\n",
              "    border: none;\n",
              "    border-radius: 50%;\n",
              "    cursor: pointer;\n",
              "    display: none;\n",
              "    fill: var(--fill-color);\n",
              "    height: 32px;\n",
              "    padding: 0;\n",
              "    width: 32px;\n",
              "  }\n",
              "\n",
              "  .colab-df-quickchart:hover {\n",
              "    background-color: var(--hover-bg-color);\n",
              "    box-shadow: 0 1px 2px rgba(60, 64, 67, 0.3), 0 1px 3px 1px rgba(60, 64, 67, 0.15);\n",
              "    fill: var(--button-hover-fill-color);\n",
              "  }\n",
              "\n",
              "  .colab-df-quickchart-complete:disabled,\n",
              "  .colab-df-quickchart-complete:disabled:hover {\n",
              "    background-color: var(--disabled-bg-color);\n",
              "    fill: var(--disabled-fill-color);\n",
              "    box-shadow: none;\n",
              "  }\n",
              "\n",
              "  .colab-df-spinner {\n",
              "    border: 2px solid var(--fill-color);\n",
              "    border-color: transparent;\n",
              "    border-bottom-color: var(--fill-color);\n",
              "    animation:\n",
              "      spin 1s steps(1) infinite;\n",
              "  }\n",
              "\n",
              "  @keyframes spin {\n",
              "    0% {\n",
              "      border-color: transparent;\n",
              "      border-bottom-color: var(--fill-color);\n",
              "      border-left-color: var(--fill-color);\n",
              "    }\n",
              "    20% {\n",
              "      border-color: transparent;\n",
              "      border-left-color: var(--fill-color);\n",
              "      border-top-color: var(--fill-color);\n",
              "    }\n",
              "    30% {\n",
              "      border-color: transparent;\n",
              "      border-left-color: var(--fill-color);\n",
              "      border-top-color: var(--fill-color);\n",
              "      border-right-color: var(--fill-color);\n",
              "    }\n",
              "    40% {\n",
              "      border-color: transparent;\n",
              "      border-right-color: var(--fill-color);\n",
              "      border-top-color: var(--fill-color);\n",
              "    }\n",
              "    60% {\n",
              "      border-color: transparent;\n",
              "      border-right-color: var(--fill-color);\n",
              "    }\n",
              "    80% {\n",
              "      border-color: transparent;\n",
              "      border-right-color: var(--fill-color);\n",
              "      border-bottom-color: var(--fill-color);\n",
              "    }\n",
              "    90% {\n",
              "      border-color: transparent;\n",
              "      border-bottom-color: var(--fill-color);\n",
              "    }\n",
              "  }\n",
              "</style>\n",
              "\n",
              "  <script>\n",
              "    async function quickchart(key) {\n",
              "      const quickchartButtonEl =\n",
              "        document.querySelector('#' + key + ' button');\n",
              "      quickchartButtonEl.disabled = true;  // To prevent multiple clicks.\n",
              "      quickchartButtonEl.classList.add('colab-df-spinner');\n",
              "      try {\n",
              "        const charts = await google.colab.kernel.invokeFunction(\n",
              "            'suggestCharts', [key], {});\n",
              "      } catch (error) {\n",
              "        console.error('Error during call to suggestCharts:', error);\n",
              "      }\n",
              "      quickchartButtonEl.classList.remove('colab-df-spinner');\n",
              "      quickchartButtonEl.classList.add('colab-df-quickchart-complete');\n",
              "    }\n",
              "    (() => {\n",
              "      let quickchartButtonEl =\n",
              "        document.querySelector('#df-10b2eebc-ffd8-4b3a-a44d-82b4133243a9 button');\n",
              "      quickchartButtonEl.style.display =\n",
              "        google.colab.kernel.accessAllowed ? 'block' : 'none';\n",
              "    })();\n",
              "  </script>\n",
              "</div>\n",
              "\n",
              "  <div id=\"id_7e03c27e-bea5-4313-86a9-808afcdebec3\">\n",
              "    <style>\n",
              "      .colab-df-generate {\n",
              "        background-color: #E8F0FE;\n",
              "        border: none;\n",
              "        border-radius: 50%;\n",
              "        cursor: pointer;\n",
              "        display: none;\n",
              "        fill: #1967D2;\n",
              "        height: 32px;\n",
              "        padding: 0 0 0 0;\n",
              "        width: 32px;\n",
              "      }\n",
              "\n",
              "      .colab-df-generate:hover {\n",
              "        background-color: #E2EBFA;\n",
              "        box-shadow: 0px 1px 2px rgba(60, 64, 67, 0.3), 0px 1px 3px 1px rgba(60, 64, 67, 0.15);\n",
              "        fill: #174EA6;\n",
              "      }\n",
              "\n",
              "      [theme=dark] .colab-df-generate {\n",
              "        background-color: #3B4455;\n",
              "        fill: #D2E3FC;\n",
              "      }\n",
              "\n",
              "      [theme=dark] .colab-df-generate:hover {\n",
              "        background-color: #434B5C;\n",
              "        box-shadow: 0px 1px 3px 1px rgba(0, 0, 0, 0.15);\n",
              "        filter: drop-shadow(0px 1px 2px rgba(0, 0, 0, 0.3));\n",
              "        fill: #FFFFFF;\n",
              "      }\n",
              "    </style>\n",
              "    <button class=\"colab-df-generate\" onclick=\"generateWithVariable('data')\"\n",
              "            title=\"Generate code using this dataframe.\"\n",
              "            style=\"display:none;\">\n",
              "\n",
              "  <svg xmlns=\"http://www.w3.org/2000/svg\" height=\"24px\"viewBox=\"0 0 24 24\"\n",
              "       width=\"24px\">\n",
              "    <path d=\"M7,19H8.4L18.45,9,17,7.55,7,17.6ZM5,21V16.75L18.45,3.32a2,2,0,0,1,2.83,0l1.4,1.43a1.91,1.91,0,0,1,.58,1.4,1.91,1.91,0,0,1-.58,1.4L9.25,21ZM18.45,9,17,7.55Zm-12,3A5.31,5.31,0,0,0,4.9,8.1,5.31,5.31,0,0,0,1,6.5,5.31,5.31,0,0,0,4.9,4.9,5.31,5.31,0,0,0,6.5,1,5.31,5.31,0,0,0,8.1,4.9,5.31,5.31,0,0,0,12,6.5,5.46,5.46,0,0,0,6.5,12Z\"/>\n",
              "  </svg>\n",
              "    </button>\n",
              "    <script>\n",
              "      (() => {\n",
              "      const buttonEl =\n",
              "        document.querySelector('#id_7e03c27e-bea5-4313-86a9-808afcdebec3 button.colab-df-generate');\n",
              "      buttonEl.style.display =\n",
              "        google.colab.kernel.accessAllowed ? 'block' : 'none';\n",
              "\n",
              "      buttonEl.onclick = () => {\n",
              "        google.colab.notebook.generateWithVariable('data');\n",
              "      }\n",
              "      })();\n",
              "    </script>\n",
              "  </div>\n",
              "\n",
              "    </div>\n",
              "  </div>\n"
            ],
            "application/vnd.google.colaboratory.intrinsic+json": {
              "type": "dataframe",
              "variable_name": "data"
            }
          },
          "metadata": {},
          "execution_count": 20
        }
      ]
    },
    {
      "cell_type": "code",
      "source": [
        "data = data.set_index('user_id')"
      ],
      "metadata": {
        "id": "-EBHpQBizvNq"
      },
      "execution_count": 21,
      "outputs": []
    },
    {
      "cell_type": "code",
      "source": [
        "data.columns"
      ],
      "metadata": {
        "colab": {
          "base_uri": "https://localhost:8080/"
        },
        "id": "W-XFREpyDroK",
        "outputId": "00139bef-1998-46e1-a5c6-051116bf1bc0"
      },
      "execution_count": 22,
      "outputs": [
        {
          "output_type": "execute_result",
          "data": {
            "text/plain": [
              "Index(['domitory', 'age', 'student_id', 'gender', 'major', 'bedtime',\n",
              "       'clean_duration', 'smoke', 'alcohol', 'mbti', 'alarm', 'activity',\n",
              "       'wish_domitory', 'wish_age', 'wish_student_id', 'wish_gender',\n",
              "       'wish_major', 'wish_bedtime', 'wish_clean_duration', 'wish_smoke',\n",
              "       'wish_alcohol', 'wish_mbti', 'wish_alarm', 'wish_activity'],\n",
              "      dtype='object')"
            ]
          },
          "metadata": {},
          "execution_count": 22
        }
      ]
    },
    {
      "cell_type": "code",
      "source": [
        "user_data = data[['domitory', 'age', 'student_id', 'gender', 'major', 'bedtime', 'clean_duration', 'smoke', 'alcohol', 'mbti', 'alarm', 'activity']]"
      ],
      "metadata": {
        "id": "egkNJXMja40n"
      },
      "execution_count": 23,
      "outputs": []
    },
    {
      "cell_type": "code",
      "source": [
        "wish_data = data[['wish_domitory', 'wish_age', 'wish_student_id', 'wish_gender', 'wish_major', 'wish_bedtime', 'wish_clean_duration', 'wish_smoke', 'wish_alcohol', 'wish_mbti', 'wish_alarm', 'wish_activity']]"
      ],
      "metadata": {
        "id": "aKSvlIOrDzsD"
      },
      "execution_count": 24,
      "outputs": []
    },
    {
      "cell_type": "code",
      "source": [
        "# 범주형 데이터 to 수치형 벡터 (one-hot encoding)\n",
        "\n",
        "user_data_one_hot = {\n",
        "  'domitory' : [0, 1, 2, 3, 4],\n",
        "  'age' : [0, 1, 2, 3, 4],\n",
        "  'student_id' : [0, 1, 2, 3, 4],\n",
        "  'gender' : [0, 1],\n",
        "  'major' : [0, 1, 2, 3, 4, 5],\n",
        "  'bedtime' : [0, 1, 2, 3, 4],\n",
        "  'clean_duration' : [0, 1, 2],\n",
        "  'smoke' : [0, 1],\n",
        "  'mbti' : ['ISTJ', 'ISFJ', 'INFJ', 'INTJ', 'ISTP', 'ISFP', 'INFP', 'INTP', 'ESTP', 'ESFP', 'ENFP', 'ENTP', 'ESTJ', 'ESFJ', 'ESFJ', 'ENFJ', 'ENTJ']\n",
        "}\n",
        "\n",
        "encoder = OneHotEncoder()\n",
        "user_encode = encoder.fit_transform(user_data).toarray()"
      ],
      "metadata": {
        "id": "9l3PmZhfYVW3"
      },
      "execution_count": 33,
      "outputs": []
    },
    {
      "cell_type": "code",
      "source": [
        "wish_data_one_hot = {\n",
        "  'wish_domitory' : [0, 1, 2, 3, 4],\n",
        "  'wish_age' : [0, 1, 2, 3, 4],\n",
        "  'wish_student_id' : [0, 1, 2, 3, 4],\n",
        "  'wish_gender' : [0, 1],\n",
        "  'wish_major' : [0, 1, 2, 3, 4, 5],\n",
        "  'wish_bedtime' : [0, 1, 2, 3, 4],\n",
        "  'wish_clean_duration' : [0, 1, 2],\n",
        "  'wish_smoke' : [0, 1],\n",
        "  'wish_mbti' : ['ISTJ', 'ISFJ', 'INFJ', 'INTJ', 'ISTP', 'ISFP', 'INFP', 'INTP', 'ESTP', 'ESFP', 'ENFP', 'ENTP', 'ESTJ', 'ESFJ', 'ESFJ', 'ENFJ', 'ENTJ']\n",
        "}\n",
        "\n",
        "encoder = OneHotEncoder()\n",
        "wish_encode = encoder.fit_transform(wish_data).toarray()"
      ],
      "metadata": {
        "id": "GqSuwLm-EAsl"
      },
      "execution_count": 34,
      "outputs": []
    },
    {
      "cell_type": "code",
      "source": [
        "wish_encode"
      ],
      "metadata": {
        "colab": {
          "base_uri": "https://localhost:8080/"
        },
        "id": "vq60Z3obEcPL",
        "outputId": "5e412d26-cff4-4ab2-aa59-b5ff0ca040bf"
      },
      "execution_count": 30,
      "outputs": [
        {
          "output_type": "execute_result",
          "data": {
            "text/plain": [
              "array([[1., 0., 0., ..., 0., 0., 0.],\n",
              "       [1., 0., 0., ..., 0., 0., 0.],\n",
              "       [1., 0., 0., ..., 0., 0., 0.],\n",
              "       ...,\n",
              "       [1., 0., 0., ..., 0., 0., 1.],\n",
              "       [1., 0., 0., ..., 0., 0., 1.],\n",
              "       [1., 0., 0., ..., 0., 0., 1.]])"
            ]
          },
          "metadata": {},
          "execution_count": 30
        }
      ]
    },
    {
      "cell_type": "markdown",
      "source": [
        "# 2. Data Filtering & Modeling"
      ],
      "metadata": {
        "id": "8Ky9mKggzcuB"
      }
    },
    {
      "cell_type": "markdown",
      "source": [
        "## 2-1 Faiss 유사도"
      ],
      "metadata": {
        "id": "7tMbTLTk2ZUK"
      }
    },
    {
      "cell_type": "code",
      "source": [
        "# 벡터의 차원\n",
        "d = user_encode.shape[1]\n",
        "\n",
        "# L2 거리를 사용하는 인덱스 생성\n",
        "index = faiss.IndexFlatL2(d)\n",
        "# 인덱스에 데이터 추가\n",
        "index.add(user_encode.astype('float32'))\n",
        "index.add(wish_encode.astype('float32'))\n",
        "\n",
        "# 가장 가까운 이웃의 수 (임의 설정)\n",
        "k = 100\n",
        "\n",
        "# 쿼리 벡터에 가장 가까운 이웃 검색\n",
        "distances, indices = index.search(encoded_features.astype('float32'), k)"
      ],
      "metadata": {
        "id": "n1MAQqZGcRkl"
      },
      "execution_count": 39,
      "outputs": []
    },
    {
      "cell_type": "code",
      "source": [
        "print(indices[0])"
      ],
      "metadata": {
        "colab": {
          "base_uri": "https://localhost:8080/"
        },
        "id": "-LpAVhHHcvP0",
        "outputId": "7fbd758c-ea40-496b-e32f-a8b42c86292d"
      },
      "execution_count": 40,
      "outputs": [
        {
          "output_type": "stream",
          "name": "stdout",
          "text": [
            "[  0 133   3   9 136 142  57  72 190 205  15  19  20  51 148 152 153 184\n",
            "   2   4   6  11  13  16  22  23  46  67 101 122 135 137 139 144 146 149\n",
            " 155 156 179 200 234 255   1   5  10  17  21  29  30  32  45  50  54  62\n",
            "  64  65  73  74  76  82  86 112 126 127 130 131 134 138 143 150 154 162\n",
            " 163 165 178 183 187 195 197 198 206 207 209 215 219 245 259 260 263 264\n",
            "   7   8  12  14  18  25  26  27  28  33]\n"
          ]
        }
      ]
    },
    {
      "cell_type": "code",
      "source": [
        "print(distances[0])"
      ],
      "metadata": {
        "colab": {
          "base_uri": "https://localhost:8080/"
        },
        "id": "uzoqcvGbV1Q1",
        "outputId": "1db6690c-24bf-4332-ab50-35a309cbfa54"
      },
      "execution_count": 41,
      "outputs": [
        {
          "output_type": "stream",
          "name": "stdout",
          "text": [
            "[ 0.  0.  4.  4.  4.  4.  8.  8.  8.  8. 10. 10. 10. 10. 10. 10. 10. 10.\n",
            " 12. 12. 12. 12. 12. 12. 12. 12. 12. 12. 12. 12. 12. 12. 12. 12. 12. 12.\n",
            " 12. 12. 12. 12. 12. 12. 14. 14. 14. 14. 14. 14. 14. 14. 14. 14. 14. 14.\n",
            " 14. 14. 14. 14. 14. 14. 14. 14. 14. 14. 14. 14. 14. 14. 14. 14. 14. 14.\n",
            " 14. 14. 14. 14. 14. 14. 14. 14. 14. 14. 14. 14. 14. 14. 14. 14. 14. 14.\n",
            " 16. 16. 16. 16. 16. 16. 16. 16. 16. 16.]\n"
          ]
        }
      ]
    },
    {
      "cell_type": "markdown",
      "source": [
        "## 2-2 사용자 가중치 별 sort 함수"
      ],
      "metadata": {
        "id": "Kjp_VwQ03hHb"
      }
    },
    {
      "cell_type": "code",
      "source": [
        "import numpy as np\n",
        "\n",
        "class FeatureSorter:\n",
        "    def __init__(self, encoded_data):\n",
        "        self.encoded_data = encoded_data\n",
        "        self.num_features = encoded_data.shape[1]\n",
        "\n",
        "    def sort_features_by_weight(self, weights):\n",
        "        # 가중치 배열의 크기를 feature 개수에 맞게 조정\n",
        "        weights = np.pad(weights, (0, self.num_features - len(weights)), mode='constant')\n",
        "        # feature들의 가중치를 계산\n",
        "        weighted_sum = np.dot(self.encoded_data, weights)\n",
        "        # 가중치를 기반으로 feature들을 정렬한 인덱스를 반환\n",
        "        sorted_indices = np.argsort(weighted_sum)[::-1]  # 내림차순으로 정렬\n",
        "        return sorted_indices"
      ],
      "metadata": {
        "id": "-1KTCZbG_uC7"
      },
      "execution_count": null,
      "outputs": []
    },
    {
      "cell_type": "code",
      "source": [
        "# 예시로 사용자가 설정한 가중치\n",
        "user_weights = np.array([0.8, 0.5, 0.6, 0.3, 0.9, 0.7, 0.4, 0.2])\n",
        "\n",
        "# FeatureSorter 클래스를 이용하여 feature를 정렬\n",
        "feature_sorter = FeatureSorter(encoded_features)\n",
        "sorted_indices = feature_sorter.sort_features_by_weight(user_weights)\n",
        "\n",
        "# 정렬된 feature들의 인덱스 출력\n",
        "print(\"Sorted feature indices:\", sorted_indices)"
      ],
      "metadata": {
        "colab": {
          "base_uri": "https://localhost:8080/"
        },
        "id": "x7VbYpbDAPwa",
        "outputId": "afc6d412-4f2c-458d-9d71-e3df027ebaf2"
      },
      "execution_count": null,
      "outputs": [
        {
          "output_type": "stream",
          "name": "stdout",
          "text": [
            "Sorted feature indices: [  0   3  15  10   9  39  52  32  53  57  33  82 114  22  23  24  25  40\n",
            "  29  14  30 124  71  62 101  54  26 126  46 112  51  65  63  80  85  69\n",
            "  76  74  60  59  45  58  20 130 127  31 129  43  41  27  35  37  36  98\n",
            "  38  21  49  34   1   2   4   5   6   7  47   8  11  12  13  28  17  42\n",
            "  18  19  16 132  66  73 110 115 121  86  84 123 125  77 122  72  68  61\n",
            " 131 128  67  70  64  81  48  44  99  75  93 107 111 108 109 118 113 116\n",
            " 117 119 120 105 106  94 104  88 102 100  97  96  87  92 103  90  50  56\n",
            "  89  55  95  83  79  78  91]\n"
          ]
        }
      ]
    },
    {
      "cell_type": "markdown",
      "source": [
        "# 2-3 규칙 기반 필터링"
      ],
      "metadata": {
        "id": "B_s_DARPR5b6"
      }
    },
    {
      "cell_type": "markdown",
      "source": [
        "특정 규칙을 정의해서 사용자가 선호할만한 룸메이트를 추천하는 방식의 함수를 짜봤습니다. (ex. 흡연자는 비흡연자와 매칭하지 않음)\n",
        "\n",
        "여기서는 아래와 같은 기준으로 코드를 짜봤습니다.\n",
        "\n",
        "- 성별이 같은 사람끼리 매칭\n",
        "- 흡연 여부가 같은 사람끼리 매칭\n",
        "- 청소 주기가 같은 사람끼리 매칭\n",
        "- 숙면 시간이 비슷한 사람끼리 매칭 (차이가 1 이하)\n",
        "- 음주 빈도가 비슷한 사람끼리 매칭 (차이가 1 이하)"
      ],
      "metadata": {
        "id": "9AZN2MM9R8bk"
      }
    },
    {
      "cell_type": "code",
      "source": [
        "# 사용자를 입력받아 추천하는 함수\n",
        "def recommend_roommate(user_id):\n",
        "    try:\n",
        "        user = data.loc[user_id]\n",
        "        candidates = data.drop(user_id)  # 현재 사용자 제외\n",
        "\n",
        "        # 규칙에 따른 필터링\n",
        "        candidates = candidates[candidates['gender'] == user['gender']]\n",
        "        candidates = candidates[candidates['smoke'] == user['smoke']]\n",
        "        candidates = candidates[candidates['clean_duration'] == user['clean_duration']]\n",
        "        candidates = candidates[(candidates['bedtime'] - user['bedtime']).abs() <= 1]\n",
        "        candidates = candidates[(candidates['alcohol'] - user['alcohol']).abs() <= 1]\n",
        "\n",
        "        return candidates.index\n",
        "    except KeyError:\n",
        "        print(\"No user with that ID.\")\n",
        "        return None\n",
        "\n",
        "# 특정 사용자에 대한 룸메이트 추천 결과 출력\n",
        "print(recommend_roommate(1))"
      ],
      "metadata": {
        "colab": {
          "base_uri": "https://localhost:8080/"
        },
        "id": "8y0sEen_SQ_c",
        "outputId": "0551a566-1a2d-434a-e437-8ff64cb24e66"
      },
      "execution_count": null,
      "outputs": [
        {
          "output_type": "stream",
          "name": "stdout",
          "text": [
            "Index([7, 10, 58, 62, 73, 84, 88, 98, 99, 108, 132], dtype='int64', name='user_id')\n"
          ]
        }
      ]
    },
    {
      "cell_type": "markdown",
      "source": [
        "# 2-4 MLP"
      ],
      "metadata": {
        "id": "dzG_DYS4XFdU"
      }
    },
    {
      "cell_type": "markdown",
      "source": [
        "MLP 기반으로 사용자 간의 호환성 점수를 출력하는 MLP 모델 구현\n",
        "- 0 ~ 100점 사이로 나올 수 있도록 한다."
      ],
      "metadata": {
        "id": "AwoHmAdAXHaB"
      }
    },
    {
      "cell_type": "code",
      "source": [
        "import torch\n",
        "import torch.nn as nn\n",
        "import torch.optim as optim\n",
        "from torch.utils.data import DataLoader, TensorDataset\n",
        "from sklearn.model_selection import train_test_split\n",
        "import numpy as np\n",
        "import pandas as pd\n",
        "\n",
        "# 장치 설정\n",
        "device = torch.device(\"cuda\" if torch.cuda.is_available() else \"cpu\")"
      ],
      "metadata": {
        "id": "euPl6HOHXp7J"
      },
      "execution_count": null,
      "outputs": []
    },
    {
      "cell_type": "code",
      "source": [
        "# MLP 모델 정의\n",
        "class MLP(nn.Module):\n",
        "    def __init__(self):\n",
        "        super(MLP, self).__init__()\n",
        "        self.layers = nn.Sequential(\n",
        "            nn.Linear(6, 64),\n",
        "            nn.ReLU(),\n",
        "            nn.Linear(64, 64),\n",
        "            nn.ReLU(),\n",
        "            nn.Linear(64, 1)\n",
        "        )\n",
        "\n",
        "    def forward(self, x):\n",
        "        return self.MLP(x)\n",
        "\n",
        "# 모델 인스턴스 생성 및 옵티마이저 설정\n",
        "model = MLP().to(device)\n",
        "optimizer = optim.Adam(model.parameters(), lr=0.001)\n",
        "criterion = nn.MSELoss()\n",
        "\n",
        "# 모델 훈련 함수\n",
        "def train(model, device, train_loader, optimizer, criterion):\n",
        "    model.train()\n",
        "    for data, target in train_loader:\n",
        "        data, target = data.to(device), target.to(device)\n",
        "        optimizer.zero_grad()\n",
        "        output = model(data)\n",
        "        loss = criterion(output, target.view(-1, 1))\n",
        "        loss.backward()\n",
        "        optimizer.step()\n",
        "\n",
        "# 모델 테스트 함수\n",
        "def test(model, device, test_loader, criterion):\n",
        "    model.eval()\n",
        "    test_loss = 0\n",
        "    with torch.no_grad():\n",
        "        for data, target in test_loader:\n",
        "            data, target = data.to(device), target.to(device)\n",
        "            output = model(data)\n",
        "            test_loss += criterion(output, target.view(-1, 1)).item()\n",
        "\n",
        "    test_loss /= len(test_loader.dataset)\n",
        "    print(f'Test Loss: {test_loss}')"
      ],
      "metadata": {
        "id": "Ft3pr9b5Y9H6"
      },
      "execution_count": null,
      "outputs": []
    },
    {
      "cell_type": "code",
      "source": [
        "epochs = 200\n",
        "\n",
        "# 모델 훈련 및 테스트\n",
        "for epoch in range(epochs):  # 50 에포크\n",
        "    train(model, device, train_loader, optimizer, criterion)\n",
        "    print(f'Epoch {epoch}')\n",
        "    test(model, device, test_loader, criterion)"
      ],
      "metadata": {
        "id": "Gz2uNt9NhEGK"
      },
      "execution_count": null,
      "outputs": []
    },
    {
      "cell_type": "markdown",
      "source": [
        "# 2-5 GNN\n",
        "\n",
        "- 범주형 데이터 One-Hot Encoding\n",
        "- 그래프 노드: 각 사용자\n",
        "- 그래프 엣지: 사용자 간의 잠재적 유사성\n",
        "\n",
        "=> 학습된 노드 임베딩을 사용하여 코사인 유사도 or 유클리디안 거리 계산 후에 가장 유사한 사용자를 룸메이트로 추천하는 방식."
      ],
      "metadata": {
        "id": "zCmvnwl_dkAm"
      }
    },
    {
      "cell_type": "code",
      "source": [
        "!pip install torch-geometric\n",
        "import torch\n",
        "from torch_geometric.data import Data\n",
        "from torch_geometric.nn import GCNConv, global_add_pool\n",
        "import torch.nn.functional as F"
      ],
      "metadata": {
        "colab": {
          "base_uri": "https://localhost:8080/"
        },
        "id": "UhSYx-XcEi_o",
        "outputId": "27d3e231-e0fc-4350-cb0b-067db58a8bd1"
      },
      "execution_count": null,
      "outputs": [
        {
          "output_type": "stream",
          "name": "stdout",
          "text": [
            "Collecting torch-geometric\n",
            "  Downloading torch_geometric-2.5.3-py3-none-any.whl (1.1 MB)\n",
            "\u001b[2K     \u001b[90m━━━━━━━━━━━━━━━━━━━━━━━━━━━━━━━━━━━━━━━━\u001b[0m \u001b[32m1.1/1.1 MB\u001b[0m \u001b[31m6.5 MB/s\u001b[0m eta \u001b[36m0:00:00\u001b[0m\n",
            "\u001b[?25hRequirement already satisfied: tqdm in /usr/local/lib/python3.10/dist-packages (from torch-geometric) (4.66.4)\n",
            "Requirement already satisfied: numpy in /usr/local/lib/python3.10/dist-packages (from torch-geometric) (1.25.2)\n",
            "Requirement already satisfied: scipy in /usr/local/lib/python3.10/dist-packages (from torch-geometric) (1.11.4)\n",
            "Requirement already satisfied: fsspec in /usr/local/lib/python3.10/dist-packages (from torch-geometric) (2023.6.0)\n",
            "Requirement already satisfied: jinja2 in /usr/local/lib/python3.10/dist-packages (from torch-geometric) (3.1.3)\n",
            "Requirement already satisfied: aiohttp in /usr/local/lib/python3.10/dist-packages (from torch-geometric) (3.9.5)\n",
            "Requirement already satisfied: requests in /usr/local/lib/python3.10/dist-packages (from torch-geometric) (2.31.0)\n",
            "Requirement already satisfied: pyparsing in /usr/local/lib/python3.10/dist-packages (from torch-geometric) (3.1.2)\n",
            "Requirement already satisfied: scikit-learn in /usr/local/lib/python3.10/dist-packages (from torch-geometric) (1.2.2)\n",
            "Requirement already satisfied: psutil>=5.8.0 in /usr/local/lib/python3.10/dist-packages (from torch-geometric) (5.9.5)\n",
            "Requirement already satisfied: aiosignal>=1.1.2 in /usr/local/lib/python3.10/dist-packages (from aiohttp->torch-geometric) (1.3.1)\n",
            "Requirement already satisfied: attrs>=17.3.0 in /usr/local/lib/python3.10/dist-packages (from aiohttp->torch-geometric) (23.2.0)\n",
            "Requirement already satisfied: frozenlist>=1.1.1 in /usr/local/lib/python3.10/dist-packages (from aiohttp->torch-geometric) (1.4.1)\n",
            "Requirement already satisfied: multidict<7.0,>=4.5 in /usr/local/lib/python3.10/dist-packages (from aiohttp->torch-geometric) (6.0.5)\n",
            "Requirement already satisfied: yarl<2.0,>=1.0 in /usr/local/lib/python3.10/dist-packages (from aiohttp->torch-geometric) (1.9.4)\n",
            "Requirement already satisfied: async-timeout<5.0,>=4.0 in /usr/local/lib/python3.10/dist-packages (from aiohttp->torch-geometric) (4.0.3)\n",
            "Requirement already satisfied: MarkupSafe>=2.0 in /usr/local/lib/python3.10/dist-packages (from jinja2->torch-geometric) (2.1.5)\n",
            "Requirement already satisfied: charset-normalizer<4,>=2 in /usr/local/lib/python3.10/dist-packages (from requests->torch-geometric) (3.3.2)\n",
            "Requirement already satisfied: idna<4,>=2.5 in /usr/local/lib/python3.10/dist-packages (from requests->torch-geometric) (3.7)\n",
            "Requirement already satisfied: urllib3<3,>=1.21.1 in /usr/local/lib/python3.10/dist-packages (from requests->torch-geometric) (2.0.7)\n",
            "Requirement already satisfied: certifi>=2017.4.17 in /usr/local/lib/python3.10/dist-packages (from requests->torch-geometric) (2024.2.2)\n",
            "Requirement already satisfied: joblib>=1.1.1 in /usr/local/lib/python3.10/dist-packages (from scikit-learn->torch-geometric) (1.4.2)\n",
            "Requirement already satisfied: threadpoolctl>=2.0.0 in /usr/local/lib/python3.10/dist-packages (from scikit-learn->torch-geometric) (3.5.0)\n",
            "Installing collected packages: torch-geometric\n",
            "Successfully installed torch-geometric-2.5.3\n"
          ]
        }
      ]
    },
    {
      "cell_type": "code",
      "source": [
        "def create_edge_index(features, domitory_idx, gender_idx):\n",
        "    edge_sources = []\n",
        "    edge_targets = []\n",
        "\n",
        "    num_users = features.shape[0]\n",
        "    domitory_features = features[:, domitory_idx]\n",
        "    gender_features = features[:, gender_idx]\n",
        "\n",
        "    # 모든 사용자 쌍을 검토하여 조건에 맞는 경우 엣지를 추가\n",
        "    for i in range(num_users):\n",
        "        for j in range(i + 1, num_users):\n",
        "            if domitory_features[i] == domitory_features[j] and gender_features[i] == gender_features[j]:\n",
        "                edge_sources.append(i)\n",
        "                edge_targets.append(j)\n",
        "\n",
        "    return torch.tensor([edge_sources, edge_targets], dtype=torch.long)\n",
        "\n",
        "\n",
        "def create_data(encoded_features, domitory_idx, gender_idx):\n",
        "    # 사용자 특성 벡터\n",
        "    x = torch.tensor(encoded_features, dtype=torch.float)\n",
        "\n",
        "    # 엣지 인덱스 생성\n",
        "    edge_index = create_edge_index(np.array(encoded_features), domitory_idx, gender_idx)\n",
        "\n",
        "    # 데이터 객체 생성\n",
        "    data = Data(x=x, edge_index=edge_index)\n",
        "    return data\n",
        "\n",
        "# 예시 사용자 데이터 (one-hot 인코딩된 형태로 가정)\n",
        "encoded_features = [\n",
        "    [1, 0, 0, 1],  # 사용자 1: 기숙사 0, 성별 1\n",
        "    [1, 0, 0, 1],  # 사용자 2: 기숙사 0, 성별 1\n",
        "    [0, 1, 0, 0],  # 사용자 3: 기숙사 1, 성별 0\n",
        "    [1, 0, 0, 0],  # 사용자 4: 기숙사 0, 성별 0\n",
        "    [0, 1, 1, 0],  # 사용자 5: 기숙사 1, 성별 1\n",
        "    [1, 0, 0, 0],  # 사용자 6: 기숙사 0, 성별 0\n",
        "]\n",
        "\n",
        "# 기숙사와 성별 인덱스 (one-hot 벡터 내 위치)\n",
        "domitory_idx = [0, 1]  # 기숙사 정보가 첫 번째와 두 번째 위치에 있다고 가정\n",
        "gender_idx = [2, 3]    # 성별 정보가 세 번째와 네 번째 위치에 있다고 가정\n",
        "\n",
        "# 데이터 생성\n",
        "data = create_data(encoded_features, domitory_idx, gender_idx)\n",
        "print(data)\n"
      ],
      "metadata": {
        "id": "00ohrZmEAS0z"
      },
      "execution_count": null,
      "outputs": []
    },
    {
      "cell_type": "code",
      "source": [
        "class GCNEncoder(torch.nn.Module):\n",
        "    def __init__(self, num_features, hidden_dim):\n",
        "        super(GCNEncoder, self).__init__()\n",
        "        self.conv1 = GCNConv(num_features, hidden_dim)\n",
        "        self.conv2 = GCNConv(hidden_dim, hidden_dim)\n",
        "\n",
        "    def forward(self, x, edge_index):\n",
        "        x = F.relu(self.conv1(x, edge_index))\n",
        "        x = self.conv2(x, edge_index)\n",
        "        return x"
      ],
      "metadata": {
        "id": "s1Pd2MN1EgPn"
      },
      "execution_count": null,
      "outputs": []
    },
    {
      "cell_type": "markdown",
      "source": [
        "지금 우리가 구현하고자 하는 것은 비지도 학습의 GCN 모델입니다.\n",
        "\n",
        "지도학습에서 GCN 모델을 사용했다면, cross entropy를 사용했겠지만, 지금은 비지도 학습이기에 contrastive Learning 등의 기법을 사용해야 할 듯 합니다.\n",
        "\n",
        "그러나, 현재 파이토치에서 해당 Loss를 제공하고 있지 않아서, 저희가 다시 재정의 해야할 것 같습니다."
      ],
      "metadata": {
        "id": "k_UjS6ipOcyP"
      }
    },
    {
      "cell_type": "code",
      "source": [
        "# Loss function 정의\n",
        "\n",
        "def contrastive_loss(z1, z2, label, margin=1.0):\n",
        "    \"\"\"\n",
        "    z1, z2: 두 노드의 임베딩 벡터\n",
        "    label: 두 노드가 같은 클래스에 속하는지 여부 (1: 같은 클래스, 0: 다른 클래스)\n",
        "    margin: 마진 값\n",
        "    \"\"\"\n",
        "    # 유클리드 거리 계산\n",
        "    distance = F.pairwise_distance(z1, z2)\n",
        "\n",
        "    # 같은 클래스에 속할 경우 거리의 제곱을 손실로 사용\n",
        "    loss_same = label * torch.pow(distance, 2)\n",
        "\n",
        "    # 다른 클래스에 속할 경우 마진까지의 거리의 제곱을 손실로 사용\n",
        "    loss_diff = (1 - label) * torch.pow(torch.clamp(margin - distance, min=0.0), 2)\n",
        "\n",
        "    # 손실의 평균을 반환\n",
        "    loss = torch.mean(loss_same + loss_diff)\n",
        "    return loss"
      ],
      "metadata": {
        "id": "Xa2-yC40NzwL"
      },
      "execution_count": null,
      "outputs": []
    },
    {
      "cell_type": "code",
      "source": [
        "# 데이터와 모델 초기화\n",
        "data = create_data()\n",
        "model = GCNEncoder(num_features=data.num_features, hidden_dim=16)\n",
        "optimizer = torch.optim.Adam(model.parameters(), lr=0.01)\n",
        "\n",
        "\n",
        "# 비지도 학습을 위한 모델 훈련\n",
        "model.train()\n",
        "for epoch in range(200):\n",
        "    optimizer.zero_grad()\n",
        "    embeddings = model(data.x, data.edge_index)\n",
        "    loss = some_loss_function(embeddings, data)  # 적절한 비지도 손실 함수 정의 필요\n",
        "    loss.backward()\n",
        "    optimizer.step()\n",
        "\n",
        "\n",
        "# 유사성 계산 및 사용자 추천\n",
        "model.eval()\n",
        "with torch.no_grad():\n",
        "    embeddings = model(data.x, data.edge_index)\n",
        "    # 유사성 계산 로직 추가"
      ],
      "metadata": {
        "id": "neFX-phbEg77"
      },
      "execution_count": null,
      "outputs": []
    }
  ]
}